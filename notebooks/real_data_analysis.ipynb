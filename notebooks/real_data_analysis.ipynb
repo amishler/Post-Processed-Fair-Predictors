{
 "cells": [
  {
   "cell_type": "code",
   "execution_count": 1,
   "metadata": {},
   "outputs": [],
   "source": [
    "from counterfactualEO import *\n",
    "import joblib\n",
    "import matplotlib as mpl\n",
    "from matplotlib import pyplot as plt\n",
    "from matplotlib import rcParams\n",
    "import os\n",
    "import pandas as pd\n",
    "import pickle\n",
    "import seaborn as sns\n",
    "# from sklearn.linear_model import LogisticRegression\n",
    "from sklearn.ensemble import RandomForestClassifier, RandomForestRegressor\n",
    "\n",
    "from sklearn.model_selection import KFold"
   ]
  },
  {
   "cell_type": "markdown",
   "metadata": {},
   "source": [
    "# Functions"
   ]
  },
  {
   "cell_type": "code",
   "execution_count": 3,
   "metadata": {},
   "outputs": [],
   "source": [
    "import cvxpy as cp\n",
    "import itertools\n",
    "import numpy as np\n",
    "import pandas as pd\n",
    "import scipy\n",
    "from scipy.special import expit, logit\n",
    "from sklearn.model_selection import train_test_split\n",
    "\n",
    "\n",
    "def train_nuisance(train, test, A, X, R, D, Y, learner_pi, learner_mu,\n",
    "                   trunc_pi=0.975):\n",
    "    \"\"\"Train nuisance regressions.\"\"\"\n",
    "    train = train.reset_index()\n",
    "    test = test.reset_index()\n",
    "    # pred_cols = list(itertools.chain.from_iterable([A, X, R]))\n",
    "    pred_cols = [A] + X + [R]\n",
    "    learner_pi.fit(train[pred_cols], train[D])\n",
    "    learner_mu.fit(train.loc[train[D].eq(0), pred_cols],\n",
    "                   train.loc[train[D].eq(0), Y])\n",
    "    if hasattr(learner_pi, 'predict_proba'):\n",
    "        pihat = pd.Series(learner_pi.predict_proba(test[pred_cols])[:, 1],\n",
    "                          name='pihat').clip(upper=trunc_pi)\n",
    "    else:\n",
    "        pihat = pd.Series(learner_pi.predict(test[pred_cols]),\n",
    "                          name='pihat').clip(upper=trunc_pi)\n",
    "    if hasattr(learner_mu, 'predict_proba'):\n",
    "        muhat0 = pd.Series(learner_mu.predict_proba(test[pred_cols])[:, 1],\n",
    "                           name='muhat0')\n",
    "    else:\n",
    "        muhat0 = pd.Series(learner_mu.predict(test[pred_cols]), name='muhat0')\n",
    "    phihat = pd.Series(\n",
    "        (1 - test[D]) / (1 - pihat) * (test[Y] - muhat0) + muhat0,\n",
    "        name='phihat')\n",
    "\n",
    "    out = pd.concat([pihat, muhat0, phihat], axis=1)\n",
    "\n",
    "    return out\n",
    "\n",
    "\n",
    "#########################\n",
    "#### Risk functions #####\n",
    "#########################\n",
    "\n",
    "def risk_coef(data, a, r, A='A', R='R', outcome='phihat'):\n",
    "    \"\"\"Compute the loss coefficient for a single row, for given values\n",
    "    A = a, R = r.\n",
    "\n",
    "    Using phihat as the outcome yields a doubly robust estimator.\n",
    "    Using muhat0 as the outcome yields a plugin estimator.\n",
    "    Using mu0 as the outcome yields (something close to) the ``true'' loss\n",
    "    coefficient.\n",
    "    \"\"\"\n",
    "    out = (((data[A] == a) & (data[R] == r)) * (1 - 2 * data[outcome])).mean()\n",
    "\n",
    "    return out\n",
    "\n",
    "\n",
    "def risk_coefs(data, A='A', R='R', outcome='phihat'):\n",
    "    \"\"\"Compute the loss coefficients.\n",
    "\n",
    "    Using phihat as the outcome yields a doubly robust estimator.\n",
    "    Using muhat0 as the outcome yields a plugin estimator.\n",
    "    Using mu0 as the outcome yields (something close to) the ``true'' loss\n",
    "    coefficients.\n",
    "    \"\"\"\n",
    "    ar_list = [(0, 0), (0, 1), (1, 0), (1, 1)]\n",
    "    coefs = [risk_coef(data, a, r, A, R, outcome) for a, r in ar_list]\n",
    "    out = np.array(coefs).clip(-1, 1)\n",
    "\n",
    "    return out\n",
    "\n",
    "\n",
    "###############################\n",
    "#### Error rate functions #####\n",
    "###############################\n",
    "\n",
    "# def cFPR(data, R, outcome='phihat'):\n",
    "#     \"\"\"Compute estimated counterfactual False Positive Rate.\"\"\"\n",
    "#     return (data[R]*(1 - data[outcome])).mean() / (1 - data[outcome]).mean()\n",
    "\n",
    "# def cFPR(data, A, R, outcome):\n",
    "#     \"\"\"Compute estimated group-specific counterfactual False Positive Rate.\"\"\"\n",
    "#     return data.groupby(A).apply(_cFPR, R, outcome).values\n",
    "\n",
    "# def cFNR(data, R, outcome='phihat'):\n",
    "#     \"\"\"Compute estimated counterfactual False Positive Rate.\"\"\"\n",
    "#     return ((1 - data[R])*data[outcome]).mean() / data[outcome].mean()\n",
    "\n",
    "# def cFNR(data, A, R, outcome):\n",
    "#     \"\"\"Compute estimated group-specific counterfactual False Positive Rate.\"\"\"\n",
    "#     return data.groupby(A).apply(_cFNR, R, outcome).values\n",
    "\n",
    "def cFPR(data, R, outcome='phihat'):\n",
    "    \"\"\"Compute estimated counterfactual False Positive Rate.\"\"\"\n",
    "    out = data.eval(\"{}*(1 - {})\".format(R, outcome)).mean() / data.eval(\"1 - {}\".format(outcome)).mean()\n",
    "    return out\n",
    "\n",
    "def cFNR(data, R, outcome='phihat'):\n",
    "    \"\"\"Compute estimated counterfactual False Positive Rate.\"\"\"\n",
    "    out = data.eval(\"(1 - {})*{}\".format(R, outcome)).mean() / data.eval(\"{}\".format(outcome)).mean()\n",
    "    return out\n",
    "\n",
    "def fairness_coefs(data, A='A', R='R', outcome='phihat'):\n",
    "    \"\"\"Get coefficients that define the fairness constraints for the estimator.\"\"\"\n",
    "    false_pos = data.groupby(A).apply(cFPR, R, outcome).values.clip(0, 1)\n",
    "    false_neg = data.groupby(A).apply(cFNR, R, outcome).values.clip(0, 1)\n",
    "    coefs_pos = np.array(\n",
    "        [1 - false_pos[0], false_pos[0], false_pos[1] - 1, -false_pos[1]])\n",
    "    coefs_neg = np.array(\n",
    "        [-false_neg[0], false_neg[0] - 1, false_neg[1], 1 - false_neg[1]])\n",
    "\n",
    "    return (coefs_pos, coefs_neg)\n",
    "\n",
    "\n",
    "def optimize(risk_coefs, coefs_pos, coefs_neg, epsilon_pos, epsilon_neg):\n",
    "    \"\"\"Solve the LP.\"\"\"\n",
    "    theta = cp.Variable(4)\n",
    "    objective = cp.Minimize(risk_coefs @ theta)\n",
    "    constraints = [0 <= theta, theta <= 1,\n",
    "                   coefs_pos @ theta <= epsilon_pos,\n",
    "                   coefs_pos @ theta >= -epsilon_pos,\n",
    "                   coefs_neg @ theta <= epsilon_neg,\n",
    "                   coefs_neg @ theta >= -epsilon_neg]\n",
    "    prob = cp.Problem(objective, constraints)\n",
    "    result = prob.solve(solver=cp.ECOS_BB)\n",
    "\n",
    "    return theta.value  # , result\n",
    "\n",
    "\n",
    "#### Full optimization ####\n",
    "def fair_derived(data, A, X, R, D, Y, learner_pi, learner_mu, epsilon_pos,\n",
    "                 epsilon_neg, outcome='phihat', k=2, test_size=0.50, trunc_pi=0.975,\n",
    "                random_state = 42):\n",
    "    \"\"\"Optimization with chosen estimators for loss and fairness constraints.\n",
    "    \n",
    "    Args:\n",
    "      k: Number of folds to use for cross-fitting.\n",
    "    \"\"\"\n",
    "    kf = KFold(n_splits = k, shuffle = True, random_state = random_state)\n",
    "    theta_arr = np.zeros((k, 4))\n",
    "    i = 0\n",
    "    for train_index, test_index in kf.split(data):\n",
    "        nuisance_fold, opt_fold = data.iloc[train_index], data.iloc[test_index]\n",
    "        # TODO: this next line is wrong. Not using the folds. Right?\n",
    "        data_nuisance, data_opt = train_test_split(data, test_size=test_size)\n",
    "        nuis = train_nuisance(data_nuisance, data_opt, A, X, R, D, Y, learner_pi,\n",
    "                              learner_mu, trunc_pi)\n",
    "        data_opt = pd.concat([data_opt.reset_index(), nuis.reset_index()], axis=1)\n",
    "        obj = risk_coefs(data_opt, A=A, R=R, outcome=outcome)\n",
    "        fair_pos, fair_neg = fairness_coefs(data_opt, A=A, R=R, outcome=outcome)\n",
    "        theta = optimize(obj, fair_pos, fair_neg, epsilon_pos, epsilon_neg)\n",
    "        theta_arr[i, :] = theta\n",
    "        i += 1\n",
    "        \n",
    "#     out = {'theta': theta, 'risk_coefs': obj,\n",
    "#            'fairness_coefs_pos': fair_pos, 'fairness_coefs_neg': fair_neg}\n",
    "#     return out\n",
    "    return theta_arr\n",
    "\n",
    "\n",
    "def indicator_df(df, A='A', R='R'):\n",
    "    \"\"\"Get four-column df indicating values of A and R in each row.\"\"\"\n",
    "    ar_list = [(0, 0), (0, 1), (1, 0), (1, 1)]\n",
    "    out_list = [((df[A] == a) & (df[R] == r)) for a, r in ar_list]\n",
    "    out = pd.DataFrame(np.array(out_list).T,\n",
    "                       columns = ['A0_R0', 'A0_R1', 'A1_R0', 'A1_R1'])\n",
    "    return out\n",
    "\n",
    "\n",
    "def ci_prob(est, sd, z, n, scale='logit'):\n",
    "    \"\"\"Compute a CI around a probability, either on the expit or the logit scale.\"\"\"\n",
    "    if (scale == 'logit') and (0 < est < 1):\n",
    "        sd = sd/(est*(1 - est))\n",
    "        lower = expit(logit(est) - z*sd/np.sqrt(n))\n",
    "        upper = expit(logit(est) + z*sd/np.sqrt(n))\n",
    "    else:\n",
    "        lower = max(0, est - z * sd / np.sqrt(n))\n",
    "        upper = min(est + z * sd / np.sqrt(n), 1)\n",
    "\n",
    "    return lower, upper\n",
    "\n",
    "\n",
    "def ci_prob_diff(est, sd, z, n, scale='logit'):\n",
    "    \"\"\"Compute a CI around a difference of probabilities, either on the expit or the logit scale.\"\"\"\n",
    "    if (scale == 'logit') and (-1 < est < 1):\n",
    "        sd = sd*2/(1 - est**2)\n",
    "        lower = 2*(expit(logit(est/2 + 1/2) - z * sd / np.sqrt(n)) - 1/2)\n",
    "        upper = 2*(expit(logit(est/2 + 1/2) + z * sd / np.sqrt(n)) - 1/2)\n",
    "    else:\n",
    "        lower = max(-1, est - z * sd / np.sqrt(n))\n",
    "        upper = min(est + z * sd / np.sqrt(n), 1)\n",
    "\n",
    "    return lower, upper\n",
    "\n",
    "\n",
    "def est_risk(theta, data, A='A', R='R', outcome='phihat', ci=0.95,\n",
    "             ci_scale='logit'):\n",
    "    \"\"\"Compute risk and risk change estimates, with optional CIs.\"\"\"\n",
    "    ind_df = indicator_df(data, A, R)\n",
    "\n",
    "    ## Risk and risk change point estimates\n",
    "    # influence function\n",
    "    inf_risk_pre = ind_df.dot([0, 1, 0, 1]) * (1 - 2 * data[outcome]) + data[\n",
    "        outcome]\n",
    "    inf_risk_post = ind_df.dot(theta) * (1 - 2 * data[outcome]) + data[outcome]\n",
    "    inf_change = inf_risk_post - inf_risk_pre\n",
    "\n",
    "    risk_est = min(max(0, inf_risk_post.mean()), 1)\n",
    "    change_est = min(max(-1, inf_change.mean()), 1)\n",
    "    out = {'metric': ['risk', 'risk_change'], 'value': [risk_est, change_est],\n",
    "           'ci_lower': [None] * 2, 'ci_upper': [None] * 2}\n",
    "\n",
    "    ## CIs\n",
    "    if ci:\n",
    "        z = scipy.stats.norm.ppf((ci + 1) / 2)\n",
    "        n = data.shape[0]\n",
    "        risk_sd = np.std(inf_risk_post)\n",
    "        change_sd = np.std(inf_change)\n",
    "        lower_risk, upper_risk = ci_prob(risk_est, risk_sd, z, n, ci_scale)\n",
    "        lower_change, upper_change = ci_prob_diff(change_est, change_sd, z, n, ci_scale)\n",
    "\n",
    "        # if (ci_scale == 'logit') and (0 < risk_est < 1):\n",
    "        #     risk_sd = np.std(inf_risk_post)/(risk_est*(1 - risk_est))\n",
    "        #     lower_risk = expit(logit(risk_est) - z * risk_sd / np.sqrt(n))\n",
    "        #     upper_risk = expit(logit(risk_est) + z * risk_sd / np.sqrt(n))\n",
    "        # else:\n",
    "        #     risk_sd = np.std(inf_risk_post)\n",
    "        #     lower_risk = max(0, risk_est - z * risk_sd / np.sqrt(n))\n",
    "        #     upper_risk = min(risk_est + z * risk_sd / np.sqrt(n), 1)\n",
    "        # if (ci_scale == 'logit') and (-1 < change_est < 1):\n",
    "        #     change_sd = np.std(inf_change)*2/(1 - change_est**2)\n",
    "        #     lower_change = 2*(expit(logit(change_est/2 + 1/2) - z * change_sd / np.sqrt(n))) - 1\n",
    "        #     upper_change = 2*(expit(logit(change_est/2 + 1/2) + z * change_sd / np.sqrt(n))) - 1\n",
    "        # else:\n",
    "        #     change_sd = np.std(inf_change)\n",
    "        #     lower_change = max(-1, change_est - z * change_sd / np.sqrt(n))\n",
    "        #     upper_change = min(change_est + z * change_sd / np.sqrt(n), 1)\n",
    "\n",
    "        out['ci_lower'] = [lower_risk, lower_change]\n",
    "        out['ci_upper'] = [upper_risk, upper_change]\n",
    "\n",
    "    return pd.DataFrame(out)\n",
    "\n",
    "\n",
    "# def est_risk(theta, data, A='A', R='R', outcome='phihat', ci=0.95):\n",
    "#     \"\"\"Compute risk and risk change estimates, with optional CIs.\"\"\"\n",
    "#     ind_df = indicator_df(data, A, R)\n",
    "#\n",
    "#     ## Risk and risk change point estimates\n",
    "#     # influence function\n",
    "#     inf_risk_pre = ind_df.dot([0, 1, 0, 1]) * (1 - 2 * data[outcome]) + data[\n",
    "#         outcome]\n",
    "#     inf_risk_post = ind_df.dot(theta) * (1 - 2 * data[outcome]) + data[outcome]\n",
    "#     inf_change = inf_risk_post - inf_risk_pre\n",
    "#\n",
    "#     risk_est = min(max(0, inf_risk_post.mean()), 1)\n",
    "#     change_est = min(max(-1, inf_change.mean()), 1)\n",
    "#     out = {'metric': ['risk', 'risk_change'], 'value': [risk_est, change_est],\n",
    "#            'ci_lower': [None] * 2, 'ci_upper': [None] * 2}\n",
    "#\n",
    "#     ## CIs\n",
    "#     if ci:\n",
    "#         z = scipy.stats.norm.ppf((ci + 1) / 2)\n",
    "#         n = data.shape[0]\n",
    "#         risk_sd = np.std(inf_risk_post)\n",
    "#         change_sd = np.std(inf_change)\n",
    "#\n",
    "#         lower_risk = max(0, risk_est - z * risk_sd / np.sqrt(n))\n",
    "#         upper_risk = min(risk_est + z * risk_sd / np.sqrt(n), 1)\n",
    "#         lower_change = max(-1, change_est - z * change_sd / np.sqrt(n))\n",
    "#         upper_change = min(change_est + z * change_sd / np.sqrt(n), 1)\n",
    "#\n",
    "#         out['ci_lower'] = [lower_risk, lower_change]\n",
    "#         out['ci_upper'] = [upper_risk, upper_change]\n",
    "#\n",
    "#     return pd.DataFrame(out)\n",
    "\n",
    "\n",
    "def est_cFPR(theta, data, A='A', R='R', outcome='phihat', ci=0.95,\n",
    "             ci_scale='logit'):\n",
    "    \"\"\"Estimate the cFPR and the fairness gap for one group.\n",
    "    \"\"\"\n",
    "    # Get the two vectors of IF values for the estimators.\n",
    "    # Compute all three estimates\n",
    "    # If CI, get the variance vectors for both groups. Compute all 3 variances.\n",
    "    ## cFPRs for the input predictor\n",
    "    coefs_pos, _ = fairness_coefs(data, A, R, outcome)\n",
    "    est0 = coefs_pos[:2] @ theta[:2]\n",
    "    est1 = abs(coefs_pos[2:] @ theta[2:])\n",
    "    est_diff = est0 - est1\n",
    "\n",
    "    out = {'metric': ['FPR0', 'FPR1', 'gap_FPR'],\n",
    "           'value': [est0, est1, est_diff]}\n",
    "    out['ci_lower'] = [None] * 3\n",
    "    out['ci_upper'] = [None] * 3\n",
    "\n",
    "    if ci:\n",
    "        n = data.shape[0]\n",
    "        z = scipy.stats.norm.ppf((ci + 1) / 2)\n",
    "        h0 = (1 - data[outcome]) * (1 - data[A])\n",
    "        h1 = (1 - data[outcome]) * data[A]\n",
    "        var_func0 = 1 / h0.mean() * (theta[1] - theta[0]) * (\n",
    "                    data[R] - est0) * h0\n",
    "        var_func1 = 1 / h1.mean() * (theta[3] - theta[2]) * (\n",
    "                    data[R] - est0) * h1\n",
    "        sd0 = np.std(var_func0)\n",
    "        sd1 = np.std(var_func1)\n",
    "        sd_diff = np.std(var_func0 - var_func1)\n",
    "\n",
    "        lower0, upper0 = ci_prob(est0, sd0, z, n, ci_scale)\n",
    "        lower1, upper1 = ci_prob(est1, sd1, z, n, ci_scale)\n",
    "        lower_diff, upper_diff = ci_prob_diff(est_diff, sd_diff, z, n, ci_scale)\n",
    "        # lower0 = max(0, est0 - z * sd0 / np.sqrt(n))\n",
    "        # upper0 = min(est0 + z * sd0 / np.sqrt(n), 1)\n",
    "        # lower1 = max(0, est1 - z * sd1 / np.sqrt(n))\n",
    "        # upper1 = min(est1 + z * sd1 / np.sqrt(n), 1)\n",
    "        # lower_diff = max(-1, est_diff - z * sd_diff / np.sqrt(n))\n",
    "        # upper_diff = min(est_diff + z * sd_diff / np.sqrt(n), 1)\n",
    "\n",
    "        out['ci_lower'] = [lower0, lower1, lower_diff]\n",
    "        out['ci_upper'] = [upper0, upper1, upper_diff]\n",
    "\n",
    "    return pd.DataFrame(out)\n",
    "\n",
    "\n",
    "def est_cFNR(theta, data, A='A', R='R', outcome='phihat', ci=0.95,\n",
    "             ci_scale='logit'):\n",
    "    \"\"\"Estimate the cFNR and the fairness gap for one group.\n",
    "    \"\"\"\n",
    "    # Get the two vectors of IF values for the estimators.\n",
    "    # Compute all three estimates\n",
    "    # If CI, get the variance vectors for both groups. Compute all 3 variances.\n",
    "    ## cFPRs for the input predictor\n",
    "    _, coefs_neg = fairness_coefs(data, A, R, outcome)\n",
    "    est0 = coefs_neg[:2] @ theta[:2] + 1\n",
    "    est1 = 1 - coefs_neg[2:] @ theta[2:]\n",
    "    est_diff = est0 - est1\n",
    "\n",
    "    out = {'metric': ['FNR0', 'FNR1', 'gap_FNR'],\n",
    "           'value': [est0, est1, est_diff]}\n",
    "    out['ci_lower'] = [None] * 3\n",
    "    out['ci_upper'] = [None] * 3\n",
    "\n",
    "    if ci:\n",
    "        n = data.shape[0]\n",
    "        z = scipy.stats.norm.ppf((ci + 1) / 2)\n",
    "        h0 = data[outcome] * (1 - data[A])\n",
    "        h1 = data[outcome] * data[A]\n",
    "        var_func0 = 1 / h0.mean() * (theta[1] - theta[0]) * (\n",
    "                    data[R] - est0) * h0\n",
    "        var_func1 = 1 / h1.mean() * (theta[3] - theta[2]) * (\n",
    "                    data[R] - est0) * h1\n",
    "        var_func_diff = var_func0 - var_func1\n",
    "        sd0 = np.std(var_func0)\n",
    "        sd1 = np.std(var_func1)\n",
    "        sd_diff = np.std(var_func0 - var_func1)\n",
    "\n",
    "        lower0, upper0 = ci_prob(est0, sd0, z, n, ci_scale)\n",
    "        lower1, upper1 = ci_prob(est1, sd1, z, n, ci_scale)\n",
    "        lower_diff, upper_diff = ci_prob_diff(est_diff, sd_diff, z, n, ci_scale)\n",
    "\n",
    "        # lower0 = max(0, est0 - z * sd0 / np.sqrt(n))\n",
    "        # upper0 = min(est0 + z * sd0 / np.sqrt(n), 1)\n",
    "        # lower1 = max(0, est1 - z * sd1 / np.sqrt(n))\n",
    "        # upper1 = min(est1 + z * sd1 / np.sqrt(n), 1)\n",
    "        # lower_diff = max(-1, est_diff - z * sd_diff / np.sqrt(n))\n",
    "        # upper_diff = min(est_diff + z * sd_diff / np.sqrt(n), 1)\n",
    "\n",
    "        out['ci_lower'] = [lower0, lower1, lower_diff]\n",
    "        out['ci_upper'] = [upper0, upper1, upper_diff]\n",
    "\n",
    "    return pd.DataFrame(out)\n",
    "\n",
    "\n",
    "# def _est_cFPR(theta, data, A='A', R='R', outcome='phihat', ci='None'):\n",
    "#     \"\"\"Estimate the cFPR and the fairness gap for one group.\"\"\"\n",
    "#     inf_func = (data[R]*(1 - data[outcome])).mean() / (1 - data[outcome])\n",
    "#     est = inf_func.mean()\n",
    "#     out = {'est': est, 'ci_lower': None, 'ci_upper': None}\n",
    "#     if ci:\n",
    "#         z = scipy.stats.norm.ppf((ci + 1)/2)\n",
    "#         sd = np.sd(inf_func)\n",
    "#         n = data.shape[0]\n",
    "#         ci_lower = est - z*sd/np.sqrt(n)\n",
    "#         ci_upper = est + z*sd/np.sqrt(n)\n",
    "#         out['ci_lower'] = ci_lower\n",
    "#         out['ci_upper'] = ci_upper\n",
    "#\n",
    "#     return out\n",
    "#\n",
    "#\n",
    "# def est_cFPR(theta, data, A='A', R='R', outcome='phihat', ci='None'):\n",
    "#     \"\"\"Estimate the cFPR and the fairness gap.\"\"\"\n",
    "#     inf_func = data.groupby(A).apply(_est_cFPR)\n",
    "#     pass\n",
    "\n",
    "\n",
    "#### metrics: for a fixed post-processed predictor ####\n",
    "def metrics(theta, data, A, X, R, D, Y, learner_pi, learner_mu, \n",
    "            outcome='phihat', k=2, ci=0.95, ci_scale='logit', random_state=42):\n",
    "    \"\"\"Compute risk and fairness metrics wrt Y0.\n",
    "\n",
    "    Args:\n",
    "      data: data over which to compute the metrics.\n",
    "      outcome:\n",
    "        Using phihat as the outcome yields doubly robust estimators.\n",
    "        Using muhat0 as the outcome yields plugin estimators.\n",
    "        Using mu0 as the outcome yields (desomething close to) the true metrics.\n",
    "      k: Number of folds to use for cross-fitting.\n",
    "      ci: Either None, in which case no CI is computed, or a value in (0, 1).\n",
    "    \"\"\"\n",
    "    kf = KFold(n_splits = k, shuffle = True, random_state = random_state)\n",
    "    theta_arr = np.zeros((k, 4))\n",
    "    i = 0\n",
    "    out = []\n",
    "    nuis_all = pd.DataFrame(np.zeros((data.shape[0], 3)))\n",
    "    for train_index, test_index in kf.split(data):\n",
    "        data_nuisance, data_opt = data.iloc[train_index], data.iloc[test_index]\n",
    "        nuis = train_nuisance(data_nuisance, data_opt, A, X, R, D, Y, learner_pi, learner_mu)\n",
    "        nuis_all.iloc[test_index] = nuis.copy().values\n",
    "        data_opt = pd.concat([data_opt.reset_index(), nuis.reset_index()], axis=1)\n",
    "        out.append(est_risk(theta, data_opt, A=A, R=R, outcome=outcome, ci=False))\n",
    "        out.append(est_cFPR(theta, data_opt, A=A, R=R, outcome=outcome, ci=False))\n",
    "        out.append(est_cFNR(theta, data_opt, A=A, R=R, outcome=outcome, ci=False))\n",
    "\n",
    "    nuis_all.columns = ['pihat', 'muhat0', 'phihat']\n",
    "    data = pd.concat([data.reset_index(), nuis_all.reset_index()], axis=1)\n",
    "    out = pd.concat(out, axis=0).sort_values(by = 'metric')\n",
    "    res = out.groupby('metric').mean()\n",
    "    res['ci_lower'] = None\n",
    "    res['ci_upper'] = None\n",
    "    res = res.reset_index()\n",
    "    \n",
    "    ## Compute P(R_theta != R), the probability the derived predictions differ\n",
    "    ind_df = indicator_df(data, A, R).astype(int)\n",
    "    newvar = ind_df.dot([theta[0], 1 - theta[1], theta[2], 1 - theta[3]])\n",
    "    diff_est = newvar.mean()\n",
    "    res = res.append({'metric': 'prop_differ', 'value': diff_est}, ignore_index = True)\n",
    "    \n",
    "    if ci:\n",
    "        ind_df = indicator_df(data, A, R)\n",
    "        z = scipy.stats.norm.ppf((ci + 1) / 2)\n",
    "        n = data.shape[0]\n",
    "        \n",
    "        ## CIs for risk quantities\n",
    "        risk_est = res.loc[res.metric == 'risk', 'value'].values[0]\n",
    "        change_est = res.loc[res.metric == 'risk_change', 'value'].values[0]\n",
    "        inf_risk_pre = ind_df.dot([0, 1, 0, 1]) * (1 - 2 * data[outcome]) + data[outcome]\n",
    "        inf_risk_post = ind_df.dot(theta) * (1 - 2 * data[outcome]) + data[outcome]\n",
    "        inf_change = inf_risk_post - inf_risk_pre\n",
    "        risk_sd = np.std(inf_risk_post)\n",
    "        change_sd = np.std(inf_change)\n",
    "        lower_risk, upper_risk = ci_prob(risk_est, risk_sd, z, n, ci_scale)\n",
    "        lower_change, upper_change = ci_prob_diff(change_est, change_sd, z, n, ci_scale)\n",
    "        res.loc[res.metric == 'risk', 'ci_lower'] = lower_risk\n",
    "        res.loc[res.metric == 'risk', 'ci_upper'] = upper_risk\n",
    "        res.loc[res.metric == 'risk_change', 'ci_lower'] = lower_change\n",
    "        res.loc[res.metric == 'risk_change', 'ci_upper'] = upper_change\n",
    "        \n",
    "        ## CIs for cFPR quantities\n",
    "        est0 = res.loc[res.metric == 'FPR0', 'value'].values[0]\n",
    "        est1 = res.loc[res.metric == 'FPR1', 'value'].values[0]\n",
    "        est_diff = res.loc[res.metric == 'gap_FPR', 'value'].values[0]\n",
    "        h0 = (1 - data[outcome]) * (1 - data[A])\n",
    "        h1 = (1 - data[outcome]) * data[A]\n",
    "        var_func0 = 1 / h0.mean() * (theta[1] - theta[0]) * (\n",
    "                    data[R] - est0) * h0\n",
    "        var_func1 = 1 / h1.mean() * (theta[3] - theta[2]) * (\n",
    "                    data[R] - est0) * h1\n",
    "        sd0 = np.std(var_func0)\n",
    "        sd1 = np.std(var_func1)\n",
    "        sd_diff = np.std(var_func0 - var_func1)\n",
    "\n",
    "        lower0, upper0 = ci_prob(est0, sd0, z, n, ci_scale)\n",
    "        lower1, upper1 = ci_prob(est1, sd1, z, n, ci_scale)\n",
    "        lower_diff, upper_diff = ci_prob_diff(est_diff, sd_diff, z, n, ci_scale)\n",
    "        res.loc[res.metric == 'FPR0', 'ci_lower'] = lower0\n",
    "        res.loc[res.metric == 'FPR0', 'ci_upper'] = upper0\n",
    "        res.loc[res.metric == 'FPR1', 'ci_lower'] = lower1\n",
    "        res.loc[res.metric == 'FPR1', 'ci_upper'] = upper1\n",
    "        res.loc[res.metric == 'gap_FPR', 'ci_lower'] = lower_diff\n",
    "        res.loc[res.metric == 'gap_FPR', 'ci_upper'] = upper_diff\n",
    "\n",
    "        ## CIs for cFNR quantities\n",
    "        est0 = res.loc[res.metric == 'FNR0', 'value'].values[0]\n",
    "        est1 = res.loc[res.metric == 'FNR1', 'value'].values[0]\n",
    "        est_diff = res.loc[res.metric == 'gap_FNR', 'value'].values[0]\n",
    "        h0 = data[outcome] * (1 - data[A])\n",
    "        h1 = data[outcome] * data[A]\n",
    "        var_func0 = 1 / h0.mean() * (theta[1] - theta[0]) * (\n",
    "                    data[R] - est0) * h0\n",
    "        var_func1 = 1 / h1.mean() * (theta[3] - theta[2]) * (\n",
    "                    data[R] - est0) * h1\n",
    "        var_func_diff = var_func0 - var_func1\n",
    "        sd0 = np.std(var_func0)\n",
    "        sd1 = np.std(var_func1)\n",
    "        sd_diff = np.std(var_func0 - var_func1)\n",
    "\n",
    "        lower0, upper0 = ci_prob(est0, sd0, z, n, ci_scale)\n",
    "        lower1, upper1 = ci_prob(est1, sd1, z, n, ci_scale)\n",
    "        lower_diff, upper_diff = ci_prob_diff(est_diff, sd_diff, z, n, ci_scale)\n",
    "        res.loc[res.metric == 'FNR0', 'ci_lower'] = lower0\n",
    "        res.loc[res.metric == 'FNR0', 'ci_upper'] = upper0\n",
    "        res.loc[res.metric == 'FNR1', 'ci_lower'] = lower1\n",
    "        res.loc[res.metric == 'FNR1', 'ci_upper'] = upper1\n",
    "        res.loc[res.metric == 'gap_FNR', 'ci_lower'] = lower_diff\n",
    "        res.loc[res.metric == 'gap_FNR', 'ci_upper'] = upper_diff\n",
    "        \n",
    "        ## CI for P(R_theta != R)\n",
    "        diff_sd = np.std(newvar)\n",
    "        res.loc[res.metric == 'prop_differ', 'ci_lower'] = diff_est - z*diff_sd/np.sqrt(n)\n",
    "        res.loc[res.metric == 'prop_differ', 'ci_upper'] = diff_est + z*diff_sd/np.sqrt(n)\n",
    "        \n",
    "    return res, out#, nuis_all, data\n",
    "\n",
    "\n",
    "def _metrics_to_df(res):\n",
    "    \"\"\"Convert multi-dim numpy array to a plottable DataFrame.\"\"\"\n",
    "    out = [pd.DataFrame(res[i, :, :]) for i in range(res.shape[0])]\n",
    "    out = pd.concat(out, keys=list(range(len(out))), names=['mc_iter'])\n",
    "    out = out.reset_index().drop(columns='level_1')\n",
    "    out.columns = ['mc_iter', 'metric', 'value', 'ci_lower', 'ci_upper']\n",
    "\n",
    "    return out\n",
    "\n",
    "\n",
    "def metrics_to_df(res, n_arr, setting, data_val):\n",
    "    out = [np.apply_along_axis(metrics, 1, rr['theta_arr'], data=data_val,\n",
    "                               outcome='mu0') for rr in res]\n",
    "    out = pd.concat([_metrics_to_df(arr) for arr in out], keys=n_arr)\n",
    "    out = out.reset_index().drop(columns='level_1')\n",
    "    out.columns = ['n', 'mc_iter', 'metric', 'value', 'ci_lower', 'ci_upper']\n",
    "    out['setting'] = setting\n",
    "    out['value'] = pd.to_numeric(out['value'])\n",
    "\n",
    "    return out\n",
    "\n",
    "\n",
    "def coverage(metrics_est, metrics_true, simplify=True):\n",
    "    true_dict = metrics_true[['metric', 'value']].set_index('metric').T.to_dict(\n",
    "        'list')\n",
    "    true_vals = metrics_est['metric'].replace(true_dict)\n",
    "    cov = (metrics_est['ci_lower'] <= true_vals) & (\n",
    "                true_vals <= metrics_est['ci_upper'])\n",
    "    out = metrics_est.assign(coverage=cov)\n",
    "    if simplify:\n",
    "        out = out.groupby(['metric', 'n'])[['coverage']].mean()\n",
    "        out = out.unstack().reset_index().rename(columns = {'': 'metric'})\n",
    "        out.columns = out.columns.droplevel(0)\n",
    "\n",
    "    return out"
   ]
  },
  {
   "cell_type": "markdown",
   "metadata": {},
   "source": [
    "# COMPAS"
   ]
  },
  {
   "cell_type": "markdown",
   "metadata": {},
   "source": [
    "## Workflow\n",
    "\n",
    "It's easier to process and visualize the data in R, but I've written the code for generating the post-processed predictor in Python. The workflow is:\n",
    "\n",
    "1. Munge data and generate model matrix in R.\n",
    "2. Read in that processed data and generate post-processed predictor here.\n",
    "3. Save theta values and metrics.\n",
    "4. Use R to visualize theta values and metrics."
   ]
  },
  {
   "cell_type": "markdown",
   "metadata": {},
   "source": [
    "## Setup"
   ]
  },
  {
   "cell_type": "code",
   "execution_count": 8,
   "metadata": {},
   "outputs": [],
   "source": [
    "# Paths for saved data and figures\n",
    "datapath = '../compas_analysis/'\n",
    "outpath = '../compas_analysis/'"
   ]
  },
  {
   "cell_type": "code",
   "execution_count": 9,
   "metadata": {},
   "outputs": [],
   "source": [
    "random_state = 104"
   ]
  },
  {
   "cell_type": "code",
   "execution_count": 10,
   "metadata": {},
   "outputs": [],
   "source": [
    "dat = pd.read_csv(os.path.join(datapath, 'compas_general_recidivism.csv'))"
   ]
  },
  {
   "cell_type": "code",
   "execution_count": 11,
   "metadata": {},
   "outputs": [],
   "source": [
    "dat['released'] = (dat['incarceration_duration'] <= 3).astype(int)"
   ]
  },
  {
   "cell_type": "code",
   "execution_count": 7,
   "metadata": {
    "collapsed": true,
    "jupyter": {
     "outputs_hidden": true
    }
   },
   "outputs": [
    {
     "data": {
      "text/html": [
       "<div>\n",
       "<style scoped>\n",
       "    .dataframe tbody tr th:only-of-type {\n",
       "        vertical-align: middle;\n",
       "    }\n",
       "\n",
       "    .dataframe tbody tr th {\n",
       "        vertical-align: top;\n",
       "    }\n",
       "\n",
       "    .dataframe thead th {\n",
       "        text-align: right;\n",
       "    }\n",
       "</style>\n",
       "<table border=\"1\" class=\"dataframe\">\n",
       "  <thead>\n",
       "    <tr style=\"text-align: right;\">\n",
       "      <th></th>\n",
       "      <th>race</th>\n",
       "      <th>gender</th>\n",
       "      <th>age_greater_than_45</th>\n",
       "      <th>age_less_than_25</th>\n",
       "      <th>priors_count</th>\n",
       "      <th>crime_factor</th>\n",
       "      <th>score_factor</th>\n",
       "      <th>incarceration_duration</th>\n",
       "      <th>two_year_recid</th>\n",
       "      <th>released</th>\n",
       "    </tr>\n",
       "  </thead>\n",
       "  <tbody>\n",
       "    <tr>\n",
       "      <th>0</th>\n",
       "      <td>0</td>\n",
       "      <td>0</td>\n",
       "      <td>0</td>\n",
       "      <td>0</td>\n",
       "      <td>0</td>\n",
       "      <td>0</td>\n",
       "      <td>0</td>\n",
       "      <td>10</td>\n",
       "      <td>1</td>\n",
       "      <td>0</td>\n",
       "    </tr>\n",
       "    <tr>\n",
       "      <th>1</th>\n",
       "      <td>0</td>\n",
       "      <td>0</td>\n",
       "      <td>0</td>\n",
       "      <td>1</td>\n",
       "      <td>4</td>\n",
       "      <td>0</td>\n",
       "      <td>0</td>\n",
       "      <td>1</td>\n",
       "      <td>1</td>\n",
       "      <td>1</td>\n",
       "    </tr>\n",
       "    <tr>\n",
       "      <th>2</th>\n",
       "      <td>1</td>\n",
       "      <td>0</td>\n",
       "      <td>0</td>\n",
       "      <td>0</td>\n",
       "      <td>14</td>\n",
       "      <td>0</td>\n",
       "      <td>1</td>\n",
       "      <td>6</td>\n",
       "      <td>1</td>\n",
       "      <td>0</td>\n",
       "    </tr>\n",
       "    <tr>\n",
       "      <th>3</th>\n",
       "      <td>1</td>\n",
       "      <td>1</td>\n",
       "      <td>0</td>\n",
       "      <td>0</td>\n",
       "      <td>0</td>\n",
       "      <td>1</td>\n",
       "      <td>0</td>\n",
       "      <td>3</td>\n",
       "      <td>0</td>\n",
       "      <td>1</td>\n",
       "    </tr>\n",
       "    <tr>\n",
       "      <th>4</th>\n",
       "      <td>1</td>\n",
       "      <td>0</td>\n",
       "      <td>0</td>\n",
       "      <td>0</td>\n",
       "      <td>0</td>\n",
       "      <td>0</td>\n",
       "      <td>0</td>\n",
       "      <td>1</td>\n",
       "      <td>0</td>\n",
       "      <td>1</td>\n",
       "    </tr>\n",
       "  </tbody>\n",
       "</table>\n",
       "</div>"
      ],
      "text/plain": [
       "   race  gender  age_greater_than_45  age_less_than_25  priors_count  \\\n",
       "0     0       0                    0                 0             0   \n",
       "1     0       0                    0                 1             4   \n",
       "2     1       0                    0                 0            14   \n",
       "3     1       1                    0                 0             0   \n",
       "4     1       0                    0                 0             0   \n",
       "\n",
       "   crime_factor  score_factor  incarceration_duration  two_year_recid  \\\n",
       "0             0             0                      10               1   \n",
       "1             0             0                       1               1   \n",
       "2             0             1                       6               1   \n",
       "3             1             0                       3               0   \n",
       "4             0             0                       1               0   \n",
       "\n",
       "   released  \n",
       "0         0  \n",
       "1         1  \n",
       "2         0  \n",
       "3         1  \n",
       "4         1  "
      ]
     },
     "execution_count": 7,
     "metadata": {},
     "output_type": "execute_result"
    }
   ],
   "source": [
    "dat.head()"
   ]
  },
  {
   "cell_type": "code",
   "execution_count": 152,
   "metadata": {},
   "outputs": [],
   "source": [
    "A = 'race'\n",
    "X = ['age_greater_than_45', 'age_less_than_25', 'priors_count']\n",
    "R = 'score_factor'\n",
    "D = 'released'\n",
    "Y = 'two_year_recid'\n",
    "\n",
    "learner_pi = RandomForestClassifier(n_estimators=200, min_samples_leaf=10, max_features='sqrt')\n",
    "learner_mu = RandomForestClassifier(n_estimators=200, min_samples_leaf=10, max_features='sqrt')"
   ]
  },
  {
   "cell_type": "code",
   "execution_count": 22,
   "metadata": {},
   "outputs": [],
   "source": [
    "train, test = train_test_split(dat, test_size = 0.5)"
   ]
  },
  {
   "cell_type": "markdown",
   "metadata": {},
   "source": [
    "## Metrics over a range of epsilon unfairness bounds"
   ]
  },
  {
   "cell_type": "code",
   "execution_count": 342,
   "metadata": {},
   "outputs": [],
   "source": [
    "vals = [0, 0.01, 0.05, 0.1, 0.2, 0.3, 0.4, 0.5, 0.6, 0.7, 0.8, 0.9, 1.0]"
   ]
  },
  {
   "cell_type": "code",
   "execution_count": 343,
   "metadata": {},
   "outputs": [],
   "source": [
    "theta_arr = []\n",
    "res_arr = []\n",
    "res_folds_arr = []"
   ]
  },
  {
   "cell_type": "code",
   "execution_count": 344,
   "metadata": {
    "collapsed": true,
    "jupyter": {
     "outputs_hidden": true
    }
   },
   "outputs": [
    {
     "name": "stdout",
     "output_type": "stream",
     "text": [
      "Estimating theta* for epsilon = 0\n",
      "Estimating theta* for epsilon = 0.01\n",
      "Estimating theta* for epsilon = 0.05\n",
      "Estimating theta* for epsilon = 0.1\n",
      "Estimating theta* for epsilon = 0.2\n",
      "Estimating theta* for epsilon = 0.3\n",
      "Estimating theta* for epsilon = 0.4\n",
      "Estimating theta* for epsilon = 0.5\n",
      "Estimating theta* for epsilon = 0.6\n",
      "Estimating theta* for epsilon = 0.7\n",
      "Estimating theta* for epsilon = 0.8\n",
      "Estimating theta* for epsilon = 0.9\n",
      "Estimating theta* for epsilon = 1.0\n"
     ]
    }
   ],
   "source": [
    "# Here using the rewritten fair_derived() and metrics() functions above.\n",
    "for val in vals:\n",
    "    print('Estimating theta* for epsilon = {}'.format(val))\n",
    "    out = fair_derived(train, A, X, R, D, Y, learner_pi, learner_mu, val, val, k = 5)\n",
    "    theta = out.mean(axis=0)\n",
    "    theta_arr.append(theta)\n",
    "    res, res_folds = metrics(theta, test, A, X, R, D, Y, learner_pi,\n",
    "                             learner_mu, k = 5, random_state = random_state)\n",
    "    res_arr.append(res)\n",
    "    res_folds_arr.append(res_folds)"
   ]
  },
  {
   "cell_type": "code",
   "execution_count": 345,
   "metadata": {},
   "outputs": [],
   "source": [
    "res = pd.concat(res_arr, keys=vals)\n",
    "res = res.reset_index().drop(columns = 'level_1').rename(\n",
    "    columns = {'level_0': 'epsilon'})"
   ]
  },
  {
   "cell_type": "code",
   "execution_count": 348,
   "metadata": {},
   "outputs": [],
   "source": [
    "res.to_csv(os.path.join(outpath, 'metrics_post-processed.csv'), index = False)"
   ]
  },
  {
   "cell_type": "code",
   "execution_count": 347,
   "metadata": {},
   "outputs": [],
   "source": [
    "pd.DataFrame(theta_arr).to_csv(os.path.join(outpath, 'theta_array.csv'), index = False)"
   ]
  },
  {
   "cell_type": "code",
   "execution_count": 281,
   "metadata": {
    "collapsed": true,
    "jupyter": {
     "outputs_hidden": true
    }
   },
   "outputs": [
    {
     "data": {
      "text/plain": [
       "<seaborn.axisgrid.FacetGrid at 0x7fa64a68c6d0>"
      ]
     },
     "execution_count": 281,
     "metadata": {},
     "output_type": "execute_result"
    },
    {
     "data": {
      "image/png": "[encoded data removed]",
      "text/plain": [
       "<Figure size 648x216 with 3 Axes>"
      ]
     },
     "metadata": {
      "needs_background": "light"
     },
     "output_type": "display_data"
    }
   ],
   "source": [
    "# Plot results: doesn't work with custom CIs. Moving to ggplot.\n",
    "g = sns.FacetGrid(res, col = 'metric', col_order = ['risk', 'gap_FPR', 'gap_FNR'])\n",
    "g.map(sns.pointplot, 'epsilon', 'value', ci=None)"
   ]
  },
  {
   "cell_type": "code",
   "execution_count": 351,
   "metadata": {
    "code_folding": []
   },
   "outputs": [],
   "source": [
    "# Metrics for the input predictor\n",
    "res_in, res_in_arr = metrics([0, 1, 0, 1], test, A, X, R, D, Y, learner_pi,\n",
    "                 learner_mu, k = 5, random_state = random_state)"
   ]
  },
  {
   "cell_type": "code",
   "execution_count": 353,
   "metadata": {
    "scrolled": true
   },
   "outputs": [],
   "source": [
    "res_in.to_csv(os.path.join(outpath, 'metrics_input.csv'), index = False)"
   ]
  },
  {
   "cell_type": "code",
   "execution_count": 138,
   "metadata": {
    "collapsed": true,
    "jupyter": {
     "outputs_hidden": true
    }
   },
   "outputs": [
    {
     "name": "stdout",
     "output_type": "stream",
     "text": [
      "0.3287384321637972 0.35454545454545455 0.3803524769271119\n"
     ]
    }
   ],
   "source": [
    "# # Observable error rate for input data\n",
    "# err_Y = test_target[R] != test_target[Y]\n",
    "# est = err_Y.mean()\n",
    "# ci_lower = est - 1.96*np.std(err_Y)/np.sqrt(len(err_Y))\n",
    "# ci_upper = est + 1.96*np.std(err_Y)/np.sqrt(len(err_Y))\n",
    "\n",
    "# print(ci_lower, est, ci_upper)"
   ]
  },
  {
   "cell_type": "code",
   "execution_count": null,
   "metadata": {},
   "outputs": [],
   "source": [
    "# Create a single table for input predictor and post-processed predictor with epsilon = 0.05"
   ]
  },
  {
   "cell_type": "code",
   "execution_count": 190,
   "metadata": {},
   "outputs": [],
   "source": [
    "def comb_cols(df, name=None):\n",
    "    out = df.value.apply(lambda x: '{0:.2f}'.format(x)) + \\\n",
    "    \"  (\" + df.ci_lower.apply(lambda x: '{0:.2f}'.format(x)) + \", \" +\\\n",
    "    df.ci_upper.apply(lambda x: '{0:.2f}'.format(x)) + \")\"\n",
    "    \n",
    "    out = out.reset_index(drop = True)#.drop(columns = 'index')\n",
    "    if name:\n",
    "        out.name = name\n",
    "        \n",
    "    return out"
   ]
  },
  {
   "cell_type": "code",
   "execution_count": 465,
   "metadata": {},
   "outputs": [],
   "source": [
    "res05 = res.loc[res.epsilon == 0.05].copy()"
   ]
  },
  {
   "cell_type": "code",
   "execution_count": 466,
   "metadata": {},
   "outputs": [],
   "source": [
    "res05_out = pd.DataFrame({'metric': res_in.reset_index().metric, 'est_S': comb_cols(res_in),\n",
    "                  'est_S_theta': comb_cols(res05)})"
   ]
  },
  {
   "cell_type": "code",
   "execution_count": 467,
   "metadata": {},
   "outputs": [
    {
     "data": {
      "text/html": [
       "<div>\n",
       "<style scoped>\n",
       "    .dataframe tbody tr th:only-of-type {\n",
       "        vertical-align: middle;\n",
       "    }\n",
       "\n",
       "    .dataframe tbody tr th {\n",
       "        vertical-align: top;\n",
       "    }\n",
       "\n",
       "    .dataframe thead th {\n",
       "        text-align: right;\n",
       "    }\n",
       "</style>\n",
       "<table border=\"1\" class=\"dataframe\">\n",
       "  <thead>\n",
       "    <tr style=\"text-align: right;\">\n",
       "      <th></th>\n",
       "      <th>metric</th>\n",
       "      <th>est_S</th>\n",
       "      <th>est_S_theta</th>\n",
       "    </tr>\n",
       "  </thead>\n",
       "  <tbody>\n",
       "    <tr>\n",
       "      <th>0</th>\n",
       "      <td>FNR0</td>\n",
       "      <td>0.30  (0.25, 0.35)</td>\n",
       "      <td>0.36  (0.31, 0.40)</td>\n",
       "    </tr>\n",
       "    <tr>\n",
       "      <th>1</th>\n",
       "      <td>FNR1</td>\n",
       "      <td>0.53  (0.46, 0.60)</td>\n",
       "      <td>0.41  (0.35, 0.46)</td>\n",
       "    </tr>\n",
       "    <tr>\n",
       "      <th>2</th>\n",
       "      <td>FPR0</td>\n",
       "      <td>0.43  (0.36, 0.49)</td>\n",
       "      <td>0.39  (0.33, 0.45)</td>\n",
       "    </tr>\n",
       "    <tr>\n",
       "      <th>3</th>\n",
       "      <td>FPR1</td>\n",
       "      <td>0.24  (0.18, 0.31)</td>\n",
       "      <td>0.42  (0.37, 0.47)</td>\n",
       "    </tr>\n",
       "    <tr>\n",
       "      <th>4</th>\n",
       "      <td>gap_FNR</td>\n",
       "      <td>-0.24  (-0.32, -0.15)</td>\n",
       "      <td>-0.05  (-0.12, 0.02)</td>\n",
       "    </tr>\n",
       "    <tr>\n",
       "      <th>5</th>\n",
       "      <td>gap_FPR</td>\n",
       "      <td>0.18  (0.09, 0.28)</td>\n",
       "      <td>-0.03  (-0.10, 0.05)</td>\n",
       "    </tr>\n",
       "    <tr>\n",
       "      <th>6</th>\n",
       "      <td>risk</td>\n",
       "      <td>0.36  (0.32, 0.41)</td>\n",
       "      <td>0.39  (0.35, 0.42)</td>\n",
       "    </tr>\n",
       "    <tr>\n",
       "      <th>7</th>\n",
       "      <td>risk_change</td>\n",
       "      <td>0.00  (0.00, 0.00)</td>\n",
       "      <td>0.03  (0.01, 0.04)</td>\n",
       "    </tr>\n",
       "    <tr>\n",
       "      <th>8</th>\n",
       "      <td>prop_differ</td>\n",
       "      <td>0.00  (0.00, 0.00)</td>\n",
       "      <td>0.09  (0.09, 0.09)</td>\n",
       "    </tr>\n",
       "  </tbody>\n",
       "</table>\n",
       "</div>"
      ],
      "text/plain": [
       "        metric                  est_S           est_S_theta\n",
       "0         FNR0     0.30  (0.25, 0.35)    0.36  (0.31, 0.40)\n",
       "1         FNR1     0.53  (0.46, 0.60)    0.41  (0.35, 0.46)\n",
       "2         FPR0     0.43  (0.36, 0.49)    0.39  (0.33, 0.45)\n",
       "3         FPR1     0.24  (0.18, 0.31)    0.42  (0.37, 0.47)\n",
       "4      gap_FNR  -0.24  (-0.32, -0.15)  -0.05  (-0.12, 0.02)\n",
       "5      gap_FPR     0.18  (0.09, 0.28)  -0.03  (-0.10, 0.05)\n",
       "6         risk     0.36  (0.32, 0.41)    0.39  (0.35, 0.42)\n",
       "7  risk_change     0.00  (0.00, 0.00)    0.03  (0.01, 0.04)\n",
       "8  prop_differ     0.00  (0.00, 0.00)    0.09  (0.09, 0.09)"
      ]
     },
     "execution_count": 467,
     "metadata": {},
     "output_type": "execute_result"
    }
   ],
   "source": [
    "res05_out"
   ]
  },
  {
   "cell_type": "code",
   "execution_count": 447,
   "metadata": {},
   "outputs": [],
   "source": [
    "# # Need to update pandas to >= 1.1 to use this approach.\n",
    "# custom_dict = {'risk':0, 'risk_change':1, 'FPR0':2, 'FPR1':3, 'FNR0':4, 'FNR1':5,\n",
    "#                'gap_FPR':6, 'gap_FNR':7, 'prop_differ':8}\n",
    "# res05_out.sort_values(by = 'metric', key = lambda x: custom_dict[x])"
   ]
  },
  {
   "cell_type": "code",
   "execution_count": 470,
   "metadata": {},
   "outputs": [
    {
     "data": {
      "text/plain": [
       "[0, 0.01, 0.05, 0.1, 0.2, 0.3, 0.4, 0.5, 0.6, 0.7, 0.8, 0.9, 1.0]"
      ]
     },
     "execution_count": 470,
     "metadata": {},
     "output_type": "execute_result"
    }
   ],
   "source": [
    "vals"
   ]
  },
  {
   "cell_type": "code",
   "execution_count": 479,
   "metadata": {},
   "outputs": [
    {
     "data": {
      "text/plain": [
       "1633"
      ]
     },
     "execution_count": 479,
     "metadata": {},
     "output_type": "execute_result"
    }
   ],
   "source": [
    "1017 + 616"
   ]
  },
  {
   "cell_type": "code",
   "execution_count": 478,
   "metadata": {},
   "outputs": [
    {
     "data": {
      "text/html": [
       "<div>\n",
       "<style scoped>\n",
       "    .dataframe tbody tr th:only-of-type {\n",
       "        vertical-align: middle;\n",
       "    }\n",
       "\n",
       "    .dataframe tbody tr th {\n",
       "        vertical-align: top;\n",
       "    }\n",
       "\n",
       "    .dataframe thead th {\n",
       "        text-align: right;\n",
       "    }\n",
       "</style>\n",
       "<table border=\"1\" class=\"dataframe\">\n",
       "  <thead>\n",
       "    <tr style=\"text-align: right;\">\n",
       "      <th>released</th>\n",
       "      <th>0</th>\n",
       "      <th>1</th>\n",
       "    </tr>\n",
       "    <tr>\n",
       "      <th>race</th>\n",
       "      <th></th>\n",
       "      <th></th>\n",
       "    </tr>\n",
       "  </thead>\n",
       "  <tbody>\n",
       "    <tr>\n",
       "      <th>0</th>\n",
       "      <td>1017</td>\n",
       "      <td>2158</td>\n",
       "    </tr>\n",
       "    <tr>\n",
       "      <th>1</th>\n",
       "      <td>616</td>\n",
       "      <td>1487</td>\n",
       "    </tr>\n",
       "  </tbody>\n",
       "</table>\n",
       "</div>"
      ],
      "text/plain": [
       "released     0     1\n",
       "race                \n",
       "0         1017  2158\n",
       "1          616  1487"
      ]
     },
     "execution_count": 478,
     "metadata": {},
     "output_type": "execute_result"
    }
   ],
   "source": [
    "pd.crosstab(dat.race, dat.released)"
   ]
  },
  {
   "cell_type": "code",
   "execution_count": 472,
   "metadata": {},
   "outputs": [
    {
     "data": {
      "text/plain": [
       "[array([0.2       , 0.85966313, 0.32227249, 1.        ]),\n",
       " array([1.80911292e-10, 8.30623628e-01, 1.56445419e-01, 1.00000000e+00]),\n",
       " array([8.27622273e-10, 9.16505324e-01, 2.31785022e-01, 9.99999999e-01]),\n",
       " array([0.09632576, 0.9761996 , 0.25441309, 1.        ]),\n",
       " array([9.06529596e-10, 9.99999995e-01, 5.44666997e-02, 9.99999998e-01]),\n",
       " array([4.51454483e-10, 9.99999999e-01, 2.07911623e-03, 9.99999997e-01]),\n",
       " array([5.98871075e-09, 9.99999999e-01, 3.67639203e-09, 9.99999992e-01]),\n",
       " array([5.70245697e-09, 9.99999999e-01, 2.01348339e-09, 9.99999995e-01]),\n",
       " array([2.60255912e-09, 1.00000000e+00, 3.22652173e-10, 9.99999996e-01]),\n",
       " array([5.18797809e-09, 9.99999999e-01, 3.21391569e-09, 9.99999989e-01]),\n",
       " array([1.78375154e-09, 1.00000000e+00, 1.54087264e-09, 9.99999994e-01]),\n",
       " array([5.70408153e-09, 9.99999999e-01, 2.74893639e-09, 9.99999985e-01]),\n",
       " array([5.33690331e-09, 1.00000000e+00, 1.08572305e-09, 9.99999992e-01])]"
      ]
     },
     "execution_count": 472,
     "metadata": {},
     "output_type": "execute_result"
    }
   ],
   "source": [
    "theta_arr"
   ]
  },
  {
   "cell_type": "code",
   "execution_count": 471,
   "metadata": {},
   "outputs": [
    {
     "data": {
      "text/plain": [
       "array([8.27622273e-10, 9.16505324e-01, 2.31785022e-01, 9.99999999e-01])"
      ]
     },
     "execution_count": 471,
     "metadata": {},
     "output_type": "execute_result"
    }
   ],
   "source": [
    "theta_arr[2]"
   ]
  },
  {
   "cell_type": "code",
   "execution_count": 468,
   "metadata": {},
   "outputs": [],
   "source": [
    "res05_out = res05_out.iloc[[6, 7, 2, 3, 0, 1, 4, 5, 8]]"
   ]
  },
  {
   "cell_type": "code",
   "execution_count": 469,
   "metadata": {},
   "outputs": [],
   "source": [
    "with open(os.path.join(outpath, 'metrics_table.csv'), 'w') as file_out:\n",
    "    file_out.write(res05_out.set_index('metric').to_latex(index = True, index_names = False))"
   ]
  },
  {
   "cell_type": "markdown",
   "metadata": {},
   "source": [
    "# Child welfare data"
   ]
  },
  {
   "cell_type": "markdown",
   "metadata": {},
   "source": [
    "## Functions"
   ]
  },
  {
   "cell_type": "code",
   "execution_count": 12,
   "metadata": {},
   "outputs": [],
   "source": [
    "def train_nuisance(train, test, A, X, R, D, Y, learner_pi, learner_mu,\n",
    "                   trunc_pi=0.975):\n",
    "    \"\"\"Train nuisance regressions.\"\"\"\n",
    "    train = train.reset_index()\n",
    "    test = test.reset_index()\n",
    "    # pred_cols = list(itertools.chain.from_iterable([A, X, R]))\n",
    "    pred_cols = [A] + X + [R]\n",
    "    learner_pi.fit(train[pred_cols], train[D])\n",
    "    learner_mu.fit(train.loc[train[D].eq(0), pred_cols],\n",
    "                   train.loc[train[D].eq(0), Y])\n",
    "    if hasattr(learner_pi, 'predict_proba'):\n",
    "        pihat = pd.Series(learner_pi.predict_proba(test[pred_cols])[:, 1],\n",
    "                          name='pihat').clip(upper=trunc_pi)\n",
    "    else:\n",
    "        pihat = pd.Series(learner_pi.predict(test[pred_cols]),\n",
    "                          name='pihat').clip(upper=trunc_pi)\n",
    "    if hasattr(learner_mu, 'predict_proba'):\n",
    "        muhat0 = pd.Series(learner_mu.predict_proba(test[pred_cols])[:, 1],\n",
    "                           name='muhat0')\n",
    "    else:\n",
    "        muhat0 = pd.Series(learner_mu.predict(test[pred_cols]), name='muhat0')\n",
    "    phihat = pd.Series(\n",
    "        (1 - test[D]) / (1 - pihat) * (test[Y] - muhat0) + muhat0,\n",
    "        name='phihat')\n",
    "\n",
    "    out = pd.concat([pihat, muhat0, phihat], axis=1)\n",
    "\n",
    "    return out\n",
    "\n",
    "\n",
    "def fair_derived(data_nuisance, data_opt, A, X, R, D, Y, learner_pi, learner_mu, epsilon_pos,\n",
    "                 epsilon_neg, outcome='phihat', trunc_pi=0.975, cost1=1, cost2=1):\n",
    "    \"\"\"Optimization with chosen estimators for loss and fairness constraints.\"\"\"\n",
    "    nuis = train_nuisance(data_nuisance, data_opt, A, X, R, D, Y, learner_pi,\n",
    "                          learner_mu, trunc_pi)\n",
    "    data_opt = pd.concat([data_opt.reset_index(), nuis.reset_index()], axis=1)\n",
    "    obj = risk_coefs2(data_opt, A=A, R=R, outcome=outcome, cost1=cost1, cost2=cost2)\n",
    "    fair_pos, fair_neg = fairness_coefs(data_opt, A=A, R=R, outcome=outcome)\n",
    "    theta = optimize(obj, fair_pos, fair_neg, epsilon_pos, epsilon_neg)\n",
    "\n",
    "    out = {'theta': theta, 'risk_coefs': obj,\n",
    "           'fairness_coefs_pos': fair_pos, 'fairness_coefs_neg': fair_neg}\n",
    "\n",
    "    return out\n",
    "\n",
    "\n",
    "def metrics(theta, data_nuisance, data_opt, A, X, R, D, Y, learner_pi,\n",
    "            learner_mu, outcome='phihat', ci=0.95, ci_scale='logit'):\n",
    "    \"\"\"Compute risk and fairness metrics wrt Y0.\n",
    "\n",
    "    Args:\n",
    "      data: data over which to compute the metrics.\n",
    "      outcome:\n",
    "        Using phihat as the outcome yields doubly robust estimators.\n",
    "        Using muhat0 as the outcome yields plugin estimators.\n",
    "        Using mu0 as the outcome yields (something close to) the true metrics.\n",
    "      ci: Either None, in which case no CI is computed, or a value in (0, 1).\n",
    "    \"\"\"\n",
    "    nuis = train_nuisance(data_nuisance, data_opt, A, X, R, D, Y, learner_pi, learner_mu)\n",
    "    data_opt = pd.concat([data_opt.reset_index(), nuis.reset_index()], axis=1)\n",
    "    \n",
    "    risk = est_risk(theta, data_opt, A=A, R=R, outcome=outcome, ci=ci, ci_scale=ci_scale)\n",
    "    cFPR = est_cFPR(theta, data_opt, A=A, R=R, outcome=outcome, ci=ci, ci_scale=ci_scale)\n",
    "    cFNR = est_cFNR(theta, data_opt, A=A, R=R, outcome=outcome, ci=ci, ci_scale=ci_scale)\n",
    "\n",
    "    ## Compute P(R_theta != R), the probability the derived predictions differ\n",
    "    ind_df = indicator_df(data_opt, A, R).astype(int)\n",
    "    newvar = ind_df.dot([theta[0], 1 - theta[1], theta[2], 1 - theta[3]])\n",
    "    diff_est = newvar.mean()           \n",
    "    ## CI for P(R_theta != R)\n",
    "    n = data_opt.shape[0]\n",
    "    z = scipy.stats.norm.ppf((ci + 1) / 2)\n",
    "    diff_sd = np.std(newvar)\n",
    "    ci_lower = diff_est - z*diff_sd/np.sqrt(n)\n",
    "    ci_upper = diff_est + z*diff_sd/np.sqrt(n)\n",
    "    prop_differ = pd.DataFrame({'metric': 'prop_differ', 'value': diff_est,\n",
    "                              'ci_lower': ci_lower, 'ci_upper': ci_upper},\n",
    "                             index = [0])\n",
    "        \n",
    "    out = pd.concat([risk, cFPR, cFNR, prop_differ])\n",
    "\n",
    "    return out\n",
    "\n",
    "#########################\n",
    "#### Risk functions #####\n",
    "#########################\n",
    "\n",
    "def risk_coef2(data, a, r, A='A', R='R', outcome='phihat', cost1=1, cost2=1):\n",
    "    \"\"\"Compute the loss coefficient for a single row, for given values\n",
    "    A = a, R = r.\n",
    "\n",
    "    Using phihat as the outcome yields a doubly robust estimator.\n",
    "    Using muhat0 as the outcome yields a plugin estimator.\n",
    "    Using mu0 as the outcome yields (something close to) the ``true'' loss\n",
    "    coefficient.\n",
    "    \"\"\"\n",
    "    out = (((data[A] == a) & (data[R] == r)) * (cost1 - (cost1 + cost2) * data[outcome])).mean()\n",
    "\n",
    "    return out\n",
    "\n",
    "\n",
    "def risk_coefs2(data, A='A', R='R', outcome='phihat', cost1=1, cost2=1):\n",
    "    \"\"\"Compute the loss coefficients.\n",
    "\n",
    "    Using phihat as the outcome yields a doubly robust estimator.\n",
    "    Using muhat0 as the outcome yields a plugin estimator.\n",
    "    Using mu0 as the outcome yields (something close to) the ``true'' loss\n",
    "    coefficients.\n",
    "    \"\"\"\n",
    "    ar_list = [(0, 0), (0, 1), (1, 0), (1, 1)]\n",
    "    coefs = [risk_coef2(data, a, r, A, R, outcome, cost1, cost2) for a, r in ar_list]\n",
    "    out = np.array(coefs).clip(-1, 1)\n",
    "\n",
    "    return out\n"
   ]
  },
  {
   "cell_type": "markdown",
   "metadata": {},
   "source": [
    "## Setup"
   ]
  },
  {
   "cell_type": "code",
   "execution_count": 15,
   "metadata": {},
   "outputs": [],
   "source": [
    "# Paths for saved data\n",
    "datapath = '../child_welfare_analysis/'\n",
    "outpath = '../child_welfare_analysis/'"
   ]
  },
  {
   "cell_type": "code",
   "execution_count": 14,
   "metadata": {},
   "outputs": [],
   "source": [
    "wel_train = pd.read_csv(os.path.join(datapath, 'child_welfare_train.csv'))\n",
    "wel_test = pd.read_csv(os.path.join(datapath, 'child_welfare_test.csv'))\n",
    "\n",
    "wel_train_nuis = wel_train.loc[wel_train.partition2 == 'nuisance']\n",
    "wel_train_target = wel_train.loc[wel_train.partition2 == 'target']\n",
    "\n",
    "# wel_train = wel_train.assign(R_obs50 = (wel_train.muhat >= 0.5).astype(int),\n",
    "#                             R50 = (wel_train.muhat0 >= 0.5).astype(int))\n",
    "# wel_test = wel_test.assign(R_obs50 = (wel_test.muhat >= 0.5).astype(int),\n",
    "#                           R50 = (wel_test.muhat0 >= 0.5).astype(int))\n",
    "\n",
    "wel_test_nuis = wel_test.loc[wel_test.partition2 == 'nuisance']\n",
    "wel_test_target = wel_test.loc[wel_test.partition2 == 'target']"
   ]
  },
  {
   "cell_type": "code",
   "execution_count": 16,
   "metadata": {},
   "outputs": [],
   "source": [
    "A = 'race'\n",
    "with open(os.path.join(datapath, 'predictors.txt'), 'r') as file_in:\n",
    "    X = file_in.read().rstrip('\\n').split('\\t')\n",
    "R = 'R'  # counterfactual model\n",
    "# R = 'R_obs'  # observational model\n",
    "# R = 'R50'\n",
    "D = 'SCREEN_IN'\n",
    "Y = 'REREF'"
   ]
  },
  {
   "cell_type": "code",
   "execution_count": 91,
   "metadata": {},
   "outputs": [],
   "source": [
    "learner_pi_train = RandomForestClassifier(n_estimators=200, min_samples_leaf=10, max_features='sqrt')\n",
    "learner_pi_test = RandomForestClassifier(n_estimators=200, min_samples_leaf=10, max_features='sqrt')\n",
    "learner_mu_train = RandomForestClassifier(n_estimators=200, min_samples_leaf=10, max_features='sqrt')\n",
    "learner_mu_test = RandomForestClassifier(n_estimators=200, min_samples_leaf=10, max_features='sqrt')"
   ]
  },
  {
   "cell_type": "code",
   "execution_count": 92,
   "metadata": {},
   "outputs": [],
   "source": [
    "random_state = 105"
   ]
  },
  {
   "cell_type": "code",
   "execution_count": 211,
   "metadata": {},
   "outputs": [],
   "source": [
    "metrics_in = metrics([0, 1, 0, 1], wel_test_nuis, wel_test_target, A, X, R, D, Y,\n",
    "                    learner_pi_test, learner_mu_test)"
   ]
  },
  {
   "cell_type": "code",
   "execution_count": 212,
   "metadata": {},
   "outputs": [
    {
     "data": {
      "text/html": [
       "<div>\n",
       "<style scoped>\n",
       "    .dataframe tbody tr th:only-of-type {\n",
       "        vertical-align: middle;\n",
       "    }\n",
       "\n",
       "    .dataframe tbody tr th {\n",
       "        vertical-align: top;\n",
       "    }\n",
       "\n",
       "    .dataframe thead th {\n",
       "        text-align: right;\n",
       "    }\n",
       "</style>\n",
       "<table border=\"1\" class=\"dataframe\">\n",
       "  <thead>\n",
       "    <tr style=\"text-align: right;\">\n",
       "      <th></th>\n",
       "      <th>metric</th>\n",
       "      <th>value</th>\n",
       "      <th>ci_lower</th>\n",
       "      <th>ci_upper</th>\n",
       "    </tr>\n",
       "  </thead>\n",
       "  <tbody>\n",
       "    <tr>\n",
       "      <th>0</th>\n",
       "      <td>risk</td>\n",
       "      <td>0.312333</td>\n",
       "      <td>0.300707</td>\n",
       "      <td>0.324200</td>\n",
       "    </tr>\n",
       "    <tr>\n",
       "      <th>1</th>\n",
       "      <td>risk_change</td>\n",
       "      <td>0.000000</td>\n",
       "      <td>0.000000</td>\n",
       "      <td>0.000000</td>\n",
       "    </tr>\n",
       "    <tr>\n",
       "      <th>0</th>\n",
       "      <td>FPR0</td>\n",
       "      <td>0.023830</td>\n",
       "      <td>0.017651</td>\n",
       "      <td>0.032102</td>\n",
       "    </tr>\n",
       "    <tr>\n",
       "      <th>1</th>\n",
       "      <td>FPR1</td>\n",
       "      <td>0.043346</td>\n",
       "      <td>0.034826</td>\n",
       "      <td>0.053833</td>\n",
       "    </tr>\n",
       "    <tr>\n",
       "      <th>2</th>\n",
       "      <td>gap_FPR</td>\n",
       "      <td>-0.019515</td>\n",
       "      <td>-0.031344</td>\n",
       "      <td>-0.007682</td>\n",
       "    </tr>\n",
       "    <tr>\n",
       "      <th>0</th>\n",
       "      <td>FNR0</td>\n",
       "      <td>0.954080</td>\n",
       "      <td>0.861182</td>\n",
       "      <td>0.985833</td>\n",
       "    </tr>\n",
       "    <tr>\n",
       "      <th>1</th>\n",
       "      <td>FNR1</td>\n",
       "      <td>0.862065</td>\n",
       "      <td>0.803065</td>\n",
       "      <td>0.905470</td>\n",
       "    </tr>\n",
       "    <tr>\n",
       "      <th>2</th>\n",
       "      <td>gap_FNR</td>\n",
       "      <td>0.092015</td>\n",
       "      <td>0.013031</td>\n",
       "      <td>0.169858</td>\n",
       "    </tr>\n",
       "    <tr>\n",
       "      <th>0</th>\n",
       "      <td>prop_differ</td>\n",
       "      <td>0.000000</td>\n",
       "      <td>0.000000</td>\n",
       "      <td>0.000000</td>\n",
       "    </tr>\n",
       "  </tbody>\n",
       "</table>\n",
       "</div>"
      ],
      "text/plain": [
       "        metric     value  ci_lower  ci_upper\n",
       "0         risk  0.312333  0.300707  0.324200\n",
       "1  risk_change  0.000000  0.000000  0.000000\n",
       "0         FPR0  0.023830  0.017651  0.032102\n",
       "1         FPR1  0.043346  0.034826  0.053833\n",
       "2      gap_FPR -0.019515 -0.031344 -0.007682\n",
       "0         FNR0  0.954080  0.861182  0.985833\n",
       "1         FNR1  0.862065  0.803065  0.905470\n",
       "2      gap_FNR  0.092015  0.013031  0.169858\n",
       "0  prop_differ  0.000000  0.000000  0.000000"
      ]
     },
     "execution_count": 212,
     "metadata": {},
     "output_type": "execute_result"
    }
   ],
   "source": [
    "# Metrics for the counterfactual model\n",
    "metrics_in"
   ]
  },
  {
   "cell_type": "code",
   "execution_count": 97,
   "metadata": {},
   "outputs": [
    {
     "data": {
      "text/html": [
       "<div>\n",
       "<style scoped>\n",
       "    .dataframe tbody tr th:only-of-type {\n",
       "        vertical-align: middle;\n",
       "    }\n",
       "\n",
       "    .dataframe tbody tr th {\n",
       "        vertical-align: top;\n",
       "    }\n",
       "\n",
       "    .dataframe thead th {\n",
       "        text-align: right;\n",
       "    }\n",
       "</style>\n",
       "<table border=\"1\" class=\"dataframe\">\n",
       "  <thead>\n",
       "    <tr style=\"text-align: right;\">\n",
       "      <th></th>\n",
       "      <th>metric</th>\n",
       "      <th>value</th>\n",
       "      <th>ci_lower</th>\n",
       "      <th>ci_upper</th>\n",
       "    </tr>\n",
       "  </thead>\n",
       "  <tbody>\n",
       "    <tr>\n",
       "      <th>0</th>\n",
       "      <td>risk</td>\n",
       "      <td>0.319521</td>\n",
       "      <td>0.307816</td>\n",
       "      <td>0.331457</td>\n",
       "    </tr>\n",
       "    <tr>\n",
       "      <th>1</th>\n",
       "      <td>risk_change</td>\n",
       "      <td>0.007722</td>\n",
       "      <td>0.000772</td>\n",
       "      <td>0.014671</td>\n",
       "    </tr>\n",
       "    <tr>\n",
       "      <th>0</th>\n",
       "      <td>FPR0</td>\n",
       "      <td>0.000000</td>\n",
       "      <td>0.000000</td>\n",
       "      <td>0.000000</td>\n",
       "    </tr>\n",
       "    <tr>\n",
       "      <th>1</th>\n",
       "      <td>FPR1</td>\n",
       "      <td>0.000000</td>\n",
       "      <td>0.000000</td>\n",
       "      <td>0.000000</td>\n",
       "    </tr>\n",
       "    <tr>\n",
       "      <th>2</th>\n",
       "      <td>gap_FPR</td>\n",
       "      <td>0.000000</td>\n",
       "      <td>0.000000</td>\n",
       "      <td>0.000000</td>\n",
       "    </tr>\n",
       "    <tr>\n",
       "      <th>0</th>\n",
       "      <td>FNR0</td>\n",
       "      <td>1.000000</td>\n",
       "      <td>1.000000</td>\n",
       "      <td>1.000000</td>\n",
       "    </tr>\n",
       "    <tr>\n",
       "      <th>1</th>\n",
       "      <td>FNR1</td>\n",
       "      <td>1.000000</td>\n",
       "      <td>1.000000</td>\n",
       "      <td>1.000000</td>\n",
       "    </tr>\n",
       "    <tr>\n",
       "      <th>2</th>\n",
       "      <td>gap_FNR</td>\n",
       "      <td>0.000000</td>\n",
       "      <td>0.000000</td>\n",
       "      <td>0.000000</td>\n",
       "    </tr>\n",
       "  </tbody>\n",
       "</table>\n",
       "</div>"
      ],
      "text/plain": [
       "        metric     value  ci_lower  ci_upper\n",
       "0         risk  0.319521  0.307816  0.331457\n",
       "1  risk_change  0.007722  0.000772  0.014671\n",
       "0         FPR0  0.000000  0.000000  0.000000\n",
       "1         FPR1  0.000000  0.000000  0.000000\n",
       "2      gap_FPR  0.000000  0.000000  0.000000\n",
       "0         FNR0  1.000000  1.000000  1.000000\n",
       "1         FNR1  1.000000  1.000000  1.000000\n",
       "2      gap_FNR  0.000000  0.000000  0.000000"
      ]
     },
     "execution_count": 97,
     "metadata": {},
     "output_type": "execute_result"
    }
   ],
   "source": [
    "# Metrics for the base rate model\n",
    "metrics0 = metrics([0, 0, 0, 0], wel_test_nuis, wel_test_target, A, X, R, D, Y,\n",
    "                    learner_pi_test, learner_mu_test)"
   ]
  },
  {
   "cell_type": "code",
   "execution_count": 95,
   "metadata": {},
   "outputs": [
    {
     "name": "stdout",
     "output_type": "stream",
     "text": [
      "Estimating for epsilon = 0\n",
      "Estimating for epsilon = 0.01\n",
      "Estimating for epsilon = 0.05\n",
      "Estimating for epsilon = 0.1\n"
     ]
    }
   ],
   "source": [
    "# Using fair_derived() and metrics() functions as rewritten above.\n",
    "vals = [0, 0.01, 0.05, 0.10]\n",
    "out_arr = []\n",
    "for val in vals:\n",
    "    print(\"Estimating for epsilon = {}\".format(val))\n",
    "    out = fair_derived(wel_train_nuis, wel_train_target, A, X, R, D, Y,\n",
    "                   learner_pi_train, learner_mu_train, val, val)\n",
    "    out_arr.append(out)"
   ]
  },
  {
   "cell_type": "code",
   "execution_count": 133,
   "metadata": {},
   "outputs": [
    {
     "data": {
      "text/html": [
       "<div>\n",
       "<style scoped>\n",
       "    .dataframe tbody tr th:only-of-type {\n",
       "        vertical-align: middle;\n",
       "    }\n",
       "\n",
       "    .dataframe tbody tr th {\n",
       "        vertical-align: top;\n",
       "    }\n",
       "\n",
       "    .dataframe thead th {\n",
       "        text-align: right;\n",
       "    }\n",
       "</style>\n",
       "<table border=\"1\" class=\"dataframe\">\n",
       "  <thead>\n",
       "    <tr style=\"text-align: right;\">\n",
       "      <th></th>\n",
       "      <th></th>\n",
       "      <th>REREF</th>\n",
       "    </tr>\n",
       "    <tr>\n",
       "      <th>race</th>\n",
       "      <th>R</th>\n",
       "      <th></th>\n",
       "    </tr>\n",
       "  </thead>\n",
       "  <tbody>\n",
       "    <tr>\n",
       "      <th rowspan=\"2\" valign=\"top\">0</th>\n",
       "      <th>0</th>\n",
       "      <td>0.305147</td>\n",
       "    </tr>\n",
       "    <tr>\n",
       "      <th>1</th>\n",
       "      <td>0.519481</td>\n",
       "    </tr>\n",
       "    <tr>\n",
       "      <th rowspan=\"2\" valign=\"top\">1</th>\n",
       "      <th>0</th>\n",
       "      <td>0.285436</td>\n",
       "    </tr>\n",
       "    <tr>\n",
       "      <th>1</th>\n",
       "      <td>0.600000</td>\n",
       "    </tr>\n",
       "  </tbody>\n",
       "</table>\n",
       "</div>"
      ],
      "text/plain": [
       "           REREF\n",
       "race R          \n",
       "0    0  0.305147\n",
       "     1  0.519481\n",
       "1    0  0.285436\n",
       "     1  0.600000"
      ]
     },
     "execution_count": 133,
     "metadata": {},
     "output_type": "execute_result"
    }
   ],
   "source": [
    "wel_test.loc[wel_test.SCREEN_IN == 0].groupby([A, R])[['REREF']].mean()"
   ]
  },
  {
   "cell_type": "code",
   "execution_count": 78,
   "metadata": {},
   "outputs": [
    {
     "data": {
      "text/plain": [
       "(10385, 1059)"
      ]
     },
     "execution_count": 78,
     "metadata": {},
     "output_type": "execute_result"
    }
   ],
   "source": [
    "wel_train_target.shape"
   ]
  },
  {
   "cell_type": "code",
   "execution_count": 96,
   "metadata": {},
   "outputs": [
    {
     "data": {
      "text/plain": [
       "[array([ 0.001,  1.   , -0.   ,  0.828]),\n",
       " array([0.  , 1.  , 0.  , 0.96]),\n",
       " array([0., 1., 0., 1.]),\n",
       " array([0., 1., 0., 1.])]"
      ]
     },
     "execution_count": 96,
     "metadata": {},
     "output_type": "execute_result"
    }
   ],
   "source": [
    "theta_arr = [np.round(out['theta'], 3) for out in out_arr]\n",
    "theta_arr"
   ]
  },
  {
   "cell_type": "code",
   "execution_count": 98,
   "metadata": {},
   "outputs": [
    {
     "data": {
      "text/html": [
       "<div>\n",
       "<style scoped>\n",
       "    .dataframe tbody tr th:only-of-type {\n",
       "        vertical-align: middle;\n",
       "    }\n",
       "\n",
       "    .dataframe tbody tr th {\n",
       "        vertical-align: top;\n",
       "    }\n",
       "\n",
       "    .dataframe thead th {\n",
       "        text-align: right;\n",
       "    }\n",
       "</style>\n",
       "<table border=\"1\" class=\"dataframe\">\n",
       "  <thead>\n",
       "    <tr style=\"text-align: right;\">\n",
       "      <th></th>\n",
       "      <th>metric</th>\n",
       "      <th>value</th>\n",
       "      <th>ci_lower</th>\n",
       "      <th>ci_upper</th>\n",
       "    </tr>\n",
       "  </thead>\n",
       "  <tbody>\n",
       "    <tr>\n",
       "      <th>0</th>\n",
       "      <td>risk</td>\n",
       "      <td>0.312344</td>\n",
       "      <td>0.300882</td>\n",
       "      <td>0.324040</td>\n",
       "    </tr>\n",
       "    <tr>\n",
       "      <th>1</th>\n",
       "      <td>risk_change</td>\n",
       "      <td>0.001652</td>\n",
       "      <td>0.000660</td>\n",
       "      <td>0.002644</td>\n",
       "    </tr>\n",
       "    <tr>\n",
       "      <th>0</th>\n",
       "      <td>FPR0</td>\n",
       "      <td>0.024452</td>\n",
       "      <td>0.018408</td>\n",
       "      <td>0.032413</td>\n",
       "    </tr>\n",
       "    <tr>\n",
       "      <th>1</th>\n",
       "      <td>FPR1</td>\n",
       "      <td>0.035611</td>\n",
       "      <td>0.028666</td>\n",
       "      <td>0.044162</td>\n",
       "    </tr>\n",
       "    <tr>\n",
       "      <th>2</th>\n",
       "      <td>gap_FPR</td>\n",
       "      <td>-0.011159</td>\n",
       "      <td>-0.021506</td>\n",
       "      <td>-0.000809</td>\n",
       "    </tr>\n",
       "    <tr>\n",
       "      <th>0</th>\n",
       "      <td>FNR0</td>\n",
       "      <td>0.951856</td>\n",
       "      <td>0.860460</td>\n",
       "      <td>0.984470</td>\n",
       "    </tr>\n",
       "    <tr>\n",
       "      <th>1</th>\n",
       "      <td>FNR1</td>\n",
       "      <td>0.885167</td>\n",
       "      <td>0.835912</td>\n",
       "      <td>0.921033</td>\n",
       "    </tr>\n",
       "    <tr>\n",
       "      <th>2</th>\n",
       "      <td>gap_FNR</td>\n",
       "      <td>0.066689</td>\n",
       "      <td>-0.006153</td>\n",
       "      <td>0.138828</td>\n",
       "    </tr>\n",
       "  </tbody>\n",
       "</table>\n",
       "</div>"
      ],
      "text/plain": [
       "        metric     value  ci_lower  ci_upper\n",
       "0         risk  0.312344  0.300882  0.324040\n",
       "1  risk_change  0.001652  0.000660  0.002644\n",
       "0         FPR0  0.024452  0.018408  0.032413\n",
       "1         FPR1  0.035611  0.028666  0.044162\n",
       "2      gap_FPR -0.011159 -0.021506 -0.000809\n",
       "0         FNR0  0.951856  0.860460  0.984470\n",
       "1         FNR1  0.885167  0.835912  0.921033\n",
       "2      gap_FNR  0.066689 -0.006153  0.138828"
      ]
     },
     "execution_count": 98,
     "metadata": {},
     "output_type": "execute_result"
    }
   ],
   "source": [
    "# Slightly improves the cFNR gap. Maybe.\n",
    "metrics(out_arr[0]['theta'], wel_test_nuis, wel_test_target, A, X, R, D, Y,\n",
    "                    learner_pi_test, learner_mu_test)"
   ]
  },
  {
   "cell_type": "code",
   "execution_count": 164,
   "metadata": {},
   "outputs": [
    {
     "name": "stdout",
     "output_type": "stream",
     "text": [
      "Estimating for cost ratio = 0.3333333333333333\n",
      "Estimating for cost ratio = 0.4\n",
      "Estimating for cost ratio = 0.5\n",
      "Estimating for cost ratio = 0.5714285714285714\n",
      "Estimating for cost ratio = 0.6666666666666666\n",
      "Estimating for cost ratio = 0.8\n",
      "Estimating for cost ratio = 1\n",
      "Estimating for cost ratio = 1.25\n",
      "Estimating for cost ratio = 1.5\n",
      "Estimating for cost ratio = 1.75\n",
      "Estimating for cost ratio = 2\n",
      "Estimating for cost ratio = 2.5\n",
      "Estimating for cost ratio = 3\n"
     ]
    }
   ],
   "source": [
    "## Try optimizing with differential error costs -- higher cost for false negatives\n",
    "val = 0.01\n",
    "out_arr = []\n",
    "cost_ratios = [1/3, 1/2.5, 1/2, 1/1.75, 1/1.5, 1/1.25, 1, 1.25, 1.5, 1.75, 2, 2.5, 3] \n",
    "for cc in cost_ratios:\n",
    "    print(\"Estimating for cost ratio = {}\".format(cc))\n",
    "    out = fair_derived(wel_train_nuis, wel_train_target, A, X, R, D, Y,\n",
    "                   learner_pi_train, learner_mu_train, val, val, cost1=1, cost2=cc)\n",
    "    out_arr.append(out)"
   ]
  },
  {
   "cell_type": "code",
   "execution_count": 165,
   "metadata": {},
   "outputs": [
    {
     "data": {
      "text/plain": [
       "[array([0., 0., 0., 0.]),\n",
       " array([0., 0., 0., 0.]),\n",
       " array([0., 0., 0., 0.]),\n",
       " array([0.   , 0.137, 0.   , 0.   ]),\n",
       " array([0.   , 1.   , 0.   , 0.726]),\n",
       " array([0.  , 1.  , 0.  , 0.94]),\n",
       " array([0.   , 1.   , 0.   , 0.934]),\n",
       " array([0.   , 1.   , 0.   , 0.939]),\n",
       " array([0.006, 1.   , 0.   , 1.   ]),\n",
       " array([0.007, 1.   , 0.   , 1.   ]),\n",
       " array([0.006, 1.   , 0.   , 1.   ]),\n",
       " array([1., 1., 1., 1.]),\n",
       " array([1., 1., 1., 1.])]"
      ]
     },
     "execution_count": 165,
     "metadata": {},
     "output_type": "execute_result"
    }
   ],
   "source": [
    "theta_arr = [np.round(out['theta'], 3) for out in out_arr]\n",
    "theta_arr"
   ]
  },
  {
   "cell_type": "code",
   "execution_count": 168,
   "metadata": {},
   "outputs": [
    {
     "data": {
      "text/plain": [
       "list"
      ]
     },
     "execution_count": 168,
     "metadata": {},
     "output_type": "execute_result"
    }
   ],
   "source": [
    "type(theta_arr)"
   ]
  },
  {
   "cell_type": "code",
   "execution_count": 173,
   "metadata": {},
   "outputs": [
    {
     "data": {
      "text/plain": [
       "(4,)"
      ]
     },
     "execution_count": 173,
     "metadata": {},
     "output_type": "execute_result"
    }
   ],
   "source": [
    "theta_arr[0].shape"
   ]
  },
  {
   "cell_type": "code",
   "execution_count": 174,
   "metadata": {},
   "outputs": [],
   "source": [
    "thetas = np.vstack(theta_arr)\n",
    "# pd.concat(theta_arr, keys=cost_ratios)"
   ]
  },
  {
   "cell_type": "code",
   "execution_count": 179,
   "metadata": {},
   "outputs": [],
   "source": [
    "thetas = pd.DataFrame(thetas).assign(cost_ratio = cost_ratios)"
   ]
  },
  {
   "cell_type": "code",
   "execution_count": 184,
   "metadata": {},
   "outputs": [],
   "source": [
    "thetas.columns = ['theta1', 'theta2', 'theta3', 'theta4', 'cost_ratio']"
   ]
  },
  {
   "cell_type": "code",
   "execution_count": 185,
   "metadata": {},
   "outputs": [],
   "source": [
    "thetas.to_csv(os.path.join('../child_welfare_analysis/', 'thetas_cost_sensitive.csv'), index = False)"
   ]
  },
  {
   "cell_type": "code",
   "execution_count": 153,
   "metadata": {},
   "outputs": [
    {
     "name": "stdout",
     "output_type": "stream",
     "text": [
      "Estimating for cost ratio = 0.25\n",
      "Estimating for cost ratio = 0.3535533905932738\n",
      "Estimating for cost ratio = 0.5\n",
      "Estimating for cost ratio = 0.7071067811865476\n",
      "Estimating for cost ratio = 1\n",
      "Estimating for cost ratio = 1.4142135623730951\n",
      "Estimating for cost ratio = 2\n",
      "Estimating for cost ratio = 2.8284271247461903\n",
      "Estimating for cost ratio = 4\n"
     ]
    }
   ],
   "source": [
    "## Try optimizing with differential error costs -- higher cost for false negatives\n",
    "# vals = [0, 0.01, 0.05, 0.10, 1]\n",
    "val = 0.01\n",
    "out_arr = []\n",
    "cost_ratios = [2**x for x in [-2, -1.5, -1, -0.5, 0, 0.5, 1, 1.5, 2]]\n",
    "for cc in cost_ratios:\n",
    "    print(\"Estimating for cost ratio = {}\".format(cc))\n",
    "    out = fair_derived(wel_train_nuis, wel_train_target, A, X, R, D, Y,\n",
    "                   learner_pi_train, learner_mu_train, val, val, cost1=1, cost2=cc)\n",
    "    out_arr.append(out)"
   ]
  },
  {
   "cell_type": "code",
   "execution_count": 160,
   "metadata": {},
   "outputs": [
    {
     "name": "stdout",
     "output_type": "stream",
     "text": [
      "Estimating for cost ratio = 0.6\n",
      "[0.    1.    0.    0.701]\n",
      "[0.007 1.    0.    1.   ]\n",
      "Estimating for cost ratio = 0.7\n",
      "[0.    1.    0.    0.933]\n",
      "[0.007 1.    0.    1.   ]\n",
      "Estimating for cost ratio = 0.8\n",
      "[0.    1.    0.    0.932]\n",
      "[0.    1.    0.    0.926]\n",
      "Estimating for cost ratio = 0.9\n",
      "[0.    1.    0.    0.933]\n",
      "[0.    1.    0.    0.932]\n"
     ]
    }
   ],
   "source": [
    "val = 0.01\n",
    "out_arr = []\n",
    "cost_ratios = [0.6, 0.7, 0.8, 0.9]\n",
    "for cc in cost_ratios:\n",
    "    print(\"Estimating for cost ratio = {}\".format(cc))\n",
    "    out = fair_derived(wel_train_nuis, wel_train_target, A, X, R, D, Y,\n",
    "                   learner_pi_train, learner_mu_train, val, val, cost1=1, cost2=cc)\n",
    "    print(np.round(out['theta'], 3))\n",
    "    out = fair_derived(wel_train_nuis, wel_train_target, A, X, R, D, Y,\n",
    "                   learner_pi_train, learner_mu_train, val, val, cost1=cc, cost2=1)\n",
    "    print(np.round(out['theta'], 3))"
   ]
  },
  {
   "cell_type": "code",
   "execution_count": 154,
   "metadata": {},
   "outputs": [
    {
     "data": {
      "text/plain": [
       "[array([0., 0., 0., 0.]),\n",
       " array([0., 0., 0., 0.]),\n",
       " array([0., 0., 0., 0.]),\n",
       " array([0.   , 1.   , 0.   , 0.935]),\n",
       " array([0.   , 1.   , 0.   , 0.947]),\n",
       " array([0.007, 1.   , 0.   , 1.   ]),\n",
       " array([0.007, 1.   , 0.   , 1.   ]),\n",
       " array([1., 1., 1., 1.]),\n",
       " array([1., 1., 1., 1.])]"
      ]
     },
     "execution_count": 154,
     "metadata": {},
     "output_type": "execute_result"
    }
   ],
   "source": [
    "theta_arr = [np.round(out['theta'], 3) for out in out_arr]\n",
    "theta_arr"
   ]
  },
  {
   "cell_type": "code",
   "execution_count": null,
   "metadata": {},
   "outputs": [],
   "source": [
    "pd.DataFrame(theta_arr)"
   ]
  },
  {
   "cell_type": "code",
   "execution_count": 147,
   "metadata": {},
   "outputs": [
    {
     "data": {
      "text/html": [
       "<div>\n",
       "<style scoped>\n",
       "    .dataframe tbody tr th:only-of-type {\n",
       "        vertical-align: middle;\n",
       "    }\n",
       "\n",
       "    .dataframe tbody tr th {\n",
       "        vertical-align: top;\n",
       "    }\n",
       "\n",
       "    .dataframe thead th {\n",
       "        text-align: right;\n",
       "    }\n",
       "</style>\n",
       "<table border=\"1\" class=\"dataframe\">\n",
       "  <thead>\n",
       "    <tr style=\"text-align: right;\">\n",
       "      <th></th>\n",
       "      <th>metric</th>\n",
       "      <th>value</th>\n",
       "      <th>ci_lower</th>\n",
       "      <th>ci_upper</th>\n",
       "    </tr>\n",
       "  </thead>\n",
       "  <tbody>\n",
       "    <tr>\n",
       "      <th>0</th>\n",
       "      <td>risk</td>\n",
       "      <td>0.314012</td>\n",
       "      <td>0.302506</td>\n",
       "      <td>0.325751</td>\n",
       "    </tr>\n",
       "    <tr>\n",
       "      <th>1</th>\n",
       "      <td>risk_change</td>\n",
       "      <td>0.001576</td>\n",
       "      <td>0.000619</td>\n",
       "      <td>0.002532</td>\n",
       "    </tr>\n",
       "    <tr>\n",
       "      <th>0</th>\n",
       "      <td>FPR0</td>\n",
       "      <td>0.025093</td>\n",
       "      <td>0.018947</td>\n",
       "      <td>0.033166</td>\n",
       "    </tr>\n",
       "    <tr>\n",
       "      <th>1</th>\n",
       "      <td>FPR1</td>\n",
       "      <td>0.036561</td>\n",
       "      <td>0.029387</td>\n",
       "      <td>0.045405</td>\n",
       "    </tr>\n",
       "    <tr>\n",
       "      <th>2</th>\n",
       "      <td>gap_FPR</td>\n",
       "      <td>-0.011468</td>\n",
       "      <td>-0.022080</td>\n",
       "      <td>-0.000854</td>\n",
       "    </tr>\n",
       "    <tr>\n",
       "      <th>0</th>\n",
       "      <td>FNR0</td>\n",
       "      <td>0.952056</td>\n",
       "      <td>0.861404</td>\n",
       "      <td>0.984483</td>\n",
       "    </tr>\n",
       "    <tr>\n",
       "      <th>1</th>\n",
       "      <td>FNR1</td>\n",
       "      <td>0.884998</td>\n",
       "      <td>0.834854</td>\n",
       "      <td>0.921352</td>\n",
       "    </tr>\n",
       "    <tr>\n",
       "      <th>2</th>\n",
       "      <td>gap_FNR</td>\n",
       "      <td>0.067057</td>\n",
       "      <td>-0.005971</td>\n",
       "      <td>0.139374</td>\n",
       "    </tr>\n",
       "  </tbody>\n",
       "</table>\n",
       "</div>"
      ],
      "text/plain": [
       "        metric     value  ci_lower  ci_upper\n",
       "0         risk  0.314012  0.302506  0.325751\n",
       "1  risk_change  0.001576  0.000619  0.002532\n",
       "0         FPR0  0.025093  0.018947  0.033166\n",
       "1         FPR1  0.036561  0.029387  0.045405\n",
       "2      gap_FPR -0.011468 -0.022080 -0.000854\n",
       "0         FNR0  0.952056  0.861404  0.984483\n",
       "1         FNR1  0.884998  0.834854  0.921352\n",
       "2      gap_FNR  0.067057 -0.005971  0.139374"
      ]
     },
     "execution_count": 147,
     "metadata": {},
     "output_type": "execute_result"
    }
   ],
   "source": [
    "metrics(out_arr[0]['theta'], wel_test_nuis, wel_test_target, A, X, R, D, Y,\n",
    "                    learner_pi_test, learner_mu_test)"
   ]
  },
  {
   "cell_type": "code",
   "execution_count": 215,
   "metadata": {},
   "outputs": [],
   "source": [
    "## Get combined table for input predictor and the predictor for theta = [0, 0, 0, 0]\n",
    "res_out = pd.DataFrame({'metric': metrics_in.reset_index().metric, 'est_S': comb_cols(metrics_in),\n",
    "                  'est_S_0': comb_cols(metrics0)})"
   ]
  },
  {
   "cell_type": "code",
   "execution_count": 219,
   "metadata": {},
   "outputs": [
    {
     "data": {
      "text/html": [
       "<div>\n",
       "<style scoped>\n",
       "    .dataframe tbody tr th:only-of-type {\n",
       "        vertical-align: middle;\n",
       "    }\n",
       "\n",
       "    .dataframe tbody tr th {\n",
       "        vertical-align: top;\n",
       "    }\n",
       "\n",
       "    .dataframe thead th {\n",
       "        text-align: right;\n",
       "    }\n",
       "</style>\n",
       "<table border=\"1\" class=\"dataframe\">\n",
       "  <thead>\n",
       "    <tr style=\"text-align: right;\">\n",
       "      <th></th>\n",
       "      <th>metric</th>\n",
       "      <th>est_S</th>\n",
       "      <th>est_S_0</th>\n",
       "    </tr>\n",
       "  </thead>\n",
       "  <tbody>\n",
       "    <tr>\n",
       "      <th>0</th>\n",
       "      <td>risk</td>\n",
       "      <td>0.31  (0.30, 0.32)</td>\n",
       "      <td>0.32  (0.31, 0.33)</td>\n",
       "    </tr>\n",
       "    <tr>\n",
       "      <th>1</th>\n",
       "      <td>risk_change</td>\n",
       "      <td>0.00  (0.00, 0.00)</td>\n",
       "      <td>0.01  (0.00, 0.01)</td>\n",
       "    </tr>\n",
       "    <tr>\n",
       "      <th>2</th>\n",
       "      <td>FPR0</td>\n",
       "      <td>0.02  (0.02, 0.03)</td>\n",
       "      <td>0.00  (0.00, 0.00)</td>\n",
       "    </tr>\n",
       "    <tr>\n",
       "      <th>3</th>\n",
       "      <td>FPR1</td>\n",
       "      <td>0.04  (0.03, 0.05)</td>\n",
       "      <td>0.00  (0.00, 0.00)</td>\n",
       "    </tr>\n",
       "    <tr>\n",
       "      <th>5</th>\n",
       "      <td>FNR0</td>\n",
       "      <td>0.95  (0.86, 0.99)</td>\n",
       "      <td>1.00  (1.00, 1.00)</td>\n",
       "    </tr>\n",
       "    <tr>\n",
       "      <th>6</th>\n",
       "      <td>FNR1</td>\n",
       "      <td>0.86  (0.80, 0.91)</td>\n",
       "      <td>1.00  (1.00, 1.00)</td>\n",
       "    </tr>\n",
       "    <tr>\n",
       "      <th>4</th>\n",
       "      <td>gap_FPR</td>\n",
       "      <td>-0.02  (-0.03, -0.01)</td>\n",
       "      <td>0.00  (0.00, 0.00)</td>\n",
       "    </tr>\n",
       "    <tr>\n",
       "      <th>7</th>\n",
       "      <td>gap_FNR</td>\n",
       "      <td>0.09  (0.01, 0.17)</td>\n",
       "      <td>0.00  (0.00, 0.00)</td>\n",
       "    </tr>\n",
       "    <tr>\n",
       "      <th>8</th>\n",
       "      <td>prop_differ</td>\n",
       "      <td>0.00  (0.00, 0.00)</td>\n",
       "      <td>0.05  (0.05, 0.06)</td>\n",
       "    </tr>\n",
       "  </tbody>\n",
       "</table>\n",
       "</div>"
      ],
      "text/plain": [
       "        metric                  est_S             est_S_0\n",
       "0         risk     0.31  (0.30, 0.32)  0.32  (0.31, 0.33)\n",
       "1  risk_change     0.00  (0.00, 0.00)  0.01  (0.00, 0.01)\n",
       "2         FPR0     0.02  (0.02, 0.03)  0.00  (0.00, 0.00)\n",
       "3         FPR1     0.04  (0.03, 0.05)  0.00  (0.00, 0.00)\n",
       "5         FNR0     0.95  (0.86, 0.99)  1.00  (1.00, 1.00)\n",
       "6         FNR1     0.86  (0.80, 0.91)  1.00  (1.00, 1.00)\n",
       "4      gap_FPR  -0.02  (-0.03, -0.01)  0.00  (0.00, 0.00)\n",
       "7      gap_FNR     0.09  (0.01, 0.17)  0.00  (0.00, 0.00)\n",
       "8  prop_differ     0.00  (0.00, 0.00)  0.05  (0.05, 0.06)"
      ]
     },
     "execution_count": 219,
     "metadata": {},
     "output_type": "execute_result"
    }
   ],
   "source": [
    "res_out"
   ]
  },
  {
   "cell_type": "code",
   "execution_count": 218,
   "metadata": {},
   "outputs": [],
   "source": [
    "res_out = res_out.iloc[[0, 1, 2, 3, 5, 6, 4, 7, 8]]"
   ]
  },
  {
   "cell_type": "code",
   "execution_count": 222,
   "metadata": {},
   "outputs": [],
   "source": [
    "with open(os.path.join(outpath, 'metrics_table.csv'), 'w') as file_out:\n",
    "    file_out.write(res_out.set_index('metric').to_latex(index = True, index_names = False))"
   ]
  }
 ],
 "metadata": {
  "kernelspec": {
   "display_name": "Python 3 (ipykernel)",
   "language": "python",
   "name": "python3"
  },
  "language_info": {
   "codemirror_mode": {
    "name": "ipython",
    "version": 3
   },
   "file_extension": ".py",
   "mimetype": "text/x-python",
   "name": "python",
   "nbconvert_exporter": "python",
   "pygments_lexer": "ipython3",
   "version": "3.10.0"
  },
  "toc": {
   "base_numbering": 1,
   "nav_menu": {},
   "number_sections": true,
   "sideBar": true,
   "skip_h1_title": false,
   "title_cell": "Table of Contents",
   "title_sidebar": "Contents",
   "toc_cell": false,
   "toc_position": {},
   "toc_section_display": true,
   "toc_window_display": true
  },
  "varInspector": {
   "cols": {
    "lenName": 16,
    "lenType": 16,
    "lenVar": 40
   },
   "kernels_config": {
    "python": {
     "delete_cmd_postfix": "",
     "delete_cmd_prefix": "del ",
     "library": "var_list.py",
     "varRefreshCmd": "print(var_dic_list())"
    },
    "r": {
     "delete_cmd_postfix": ") ",
     "delete_cmd_prefix": "rm(",
     "library": "var_list.r",
     "varRefreshCmd": "cat(var_dic_list()) "
    }
   },
   "types_to_exclude": [
    "module",
    "function",
    "builtin_function_or_method",
    "instance",
    "_Feature"
   ],
   "window_display": false
  }
 },
 "nbformat": 4,
 "nbformat_minor": 4
}
